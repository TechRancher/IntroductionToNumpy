{
 "cells": [
  {
   "cell_type": "markdown",
   "metadata": {},
   "source": [
    "# Introduction to Numpy\n",
    "Let's learn NumPy!\n",
    "NumPy (Number Python) is a fundamental package for scientific computing in Python. I will explain more about NumPy as we go along.  I want to keep as much of the borning stuff out of this notebook as I can.  I feel most people learn more with hands on.    \n",
    "### My Environment\n",
    "I am using Anaconda to set up my environment for this Jupyter Notebook.  \n",
    "You can install NumPy into Anaconda by the command <code>conda install numpy</code> in your Anaconda command line.  \n",
    "I will be using the NumPy Documentation for my references in this Jupyter Notebook.  \n",
    "### Links\n",
    "All links will open a new tab.  \n",
    "I have included a glossary at the end of this notebook.  \n",
    "Here is a link to <a href=\"https://docs.scipy.org/doc/\" target=\"_blank\" title=\"NumPy Documentation\">NumPy Documentation</a> to learn more.  Make sure you bookmark NumPy for referencing later.  \n",
    "Here is a link to <a href=\"https://jupyter-notebook.readthedocs.io/en/stable/index.html\" target=\"_blank\" title=\"Jupyter Notebook Documentation\">Jupyter Notebook Documentation</a> to learn more of how to make the most use out of your notebook.\n",
    "\n",
    "Ok, enough explaining, time to code!"
   ]
  },
  {
   "cell_type": "code",
   "execution_count": 1,
   "metadata": {},
   "outputs": [
    {
     "data": {
      "text/plain": [
       "'1.14.2'"
      ]
     },
     "execution_count": 1,
     "metadata": {},
     "output_type": "execute_result"
    }
   ],
   "source": [
    "# We are going to import NumPy into our Jupyter Notebook so we can use it\n",
    "import numpy as np\n",
    "# We are going to import MatPlotLib so we can use it in Jupyter Notebook\n",
    "import matplotlib.pyplot as plt\n",
    "# Here we are going to check on what verison of NumPy we have\n",
    "np.__version__"
   ]
  },
  {
   "cell_type": "markdown",
   "metadata": {},
   "source": [
    "## We will start out with a review of List\n",
    "A list can be of any value type: <code>[1, 'Joe Smith', True, 3.14]</code>  \n",
    "Let's look at an example below:"
   ]
  },
  {
   "cell_type": "code",
   "execution_count": 2,
   "metadata": {},
   "outputs": [],
   "source": [
    "gpas_as_list = [4.0,3.286,3.5]"
   ]
  },
  {
   "cell_type": "code",
   "execution_count": 3,
   "metadata": {},
   "outputs": [
    {
     "data": {
      "text/plain": [
       "\"What's this all about\""
      ]
     },
     "execution_count": 3,
     "metadata": {},
     "output_type": "execute_result"
    }
   ],
   "source": [
    "# List can have elements appended to it.\n",
    "gpas_as_list.append(4.0)\n",
    "# Can have multiple datatypes in a list.\n",
    "gpas_as_list.insert(1, \"What's this all about\")\n",
    "# We can remove items from a list\n",
    "gpas_as_list.pop(1) # This will return the value we pop out of the list"
   ]
  },
  {
   "cell_type": "code",
   "execution_count": 4,
   "metadata": {},
   "outputs": [
    {
     "data": {
      "text/plain": [
       "[4.0, 3.286, 3.5, 4.0]"
      ]
     },
     "execution_count": 4,
     "metadata": {},
     "output_type": "execute_result"
    }
   ],
   "source": [
    "gpas_as_list"
   ]
  },
  {
   "cell_type": "markdown",
   "metadata": {},
   "source": [
    "## Now we will look at the NumPy Arrays\n",
    "Unlike Python's list, NumPy Arrays are immutable.    \n",
    "Here are some of the difference between List and Arrays  \n",
    "<ul>\n",
    "    <li>Arrays are immutable</li>\n",
    "    <li>Arrays do not use methods like append, insert, or remove</li>\n",
    "    <li>Some functions work with arrays like <code>len(my_array)</code></li>\n",
    "    <li>Arrays must be of the same <a href=\"https://www.numpy.org/devdocs/user/basics.types.html\" target=\"_blank\" title=\"NumPy Data Types\">Data Type</a> to work together</li>\n",
    "</ul>\n",
    "We will show some examples now to give you an understanding of the different:"
   ]
  },
  {
   "cell_type": "code",
   "execution_count": 5,
   "metadata": {},
   "outputs": [],
   "source": [
    "gpas = np.array(gpas_as_list)"
   ]
  },
  {
   "cell_type": "code",
   "execution_count": 6,
   "metadata": {},
   "outputs": [],
   "source": [
    "# You can ask Jupyter about information on different methods, attributes,\n",
    "# and functions by using a ?before the variable\n",
    "?gpas"
   ]
  },
  {
   "cell_type": "code",
   "execution_count": 7,
   "metadata": {},
   "outputs": [
    {
     "data": {
      "text/plain": [
       "dtype('float64')"
      ]
     },
     "execution_count": 7,
     "metadata": {},
     "output_type": "execute_result"
    }
   ],
   "source": [
    "gpas.dtype # dtype : dtype object = Describes the format of the elements in the array."
   ]
  },
  {
   "cell_type": "code",
   "execution_count": 8,
   "metadata": {},
   "outputs": [
    {
     "data": {
      "text/plain": [
       "8"
      ]
     },
     "execution_count": 8,
     "metadata": {},
     "output_type": "execute_result"
    }
   ],
   "source": [
    "gpas.itemsize #itemsize : int = The memory use of each array element in bytes."
   ]
  },
  {
   "cell_type": "code",
   "execution_count": 9,
   "metadata": {},
   "outputs": [
    {
     "data": {
      "text/plain": [
       "4"
      ]
     },
     "execution_count": 9,
     "metadata": {},
     "output_type": "execute_result"
    }
   ],
   "source": [
    "gpas.size # size : int = Number of elements in the array."
   ]
  },
  {
   "cell_type": "code",
   "execution_count": 10,
   "metadata": {},
   "outputs": [
    {
     "data": {
      "text/plain": [
       "(4,)"
      ]
     },
     "execution_count": 10,
     "metadata": {},
     "output_type": "execute_result"
    }
   ],
   "source": [
    "gpas.shape # shape : tuple of ints = Shape of the array. Later on we will get \n",
    "           # into using shape and how calling on this can help."
   ]
  },
  {
   "cell_type": "code",
   "execution_count": 11,
   "metadata": {},
   "outputs": [
    {
     "data": {
      "text/plain": [
       "4"
      ]
     },
     "execution_count": 11,
     "metadata": {},
     "output_type": "execute_result"
    }
   ],
   "source": [
    "# We can use a lot of Python's methods on Numpy\n",
    "len(gpas)"
   ]
  },
  {
   "cell_type": "code",
   "execution_count": 12,
   "metadata": {},
   "outputs": [
    {
     "data": {
      "text/plain": [
       "32"
      ]
     },
     "execution_count": 12,
     "metadata": {},
     "output_type": "execute_result"
    }
   ],
   "source": [
    "gpas.nbytes"
   ]
  },
  {
   "cell_type": "markdown",
   "metadata": {},
   "source": [
    "## Multidimensional Arrays\n",
    "NumPy Arrays can be multidimensional.  Meaning we can represent (in our example) multi students and their grade for 4 years.\n",
    "<ul>\n",
    "    <li>This data structure is actually called <code>ndarray</code> which means <strong>n</strong>umber of <strong>d</strong>imensions</li>\n",
    "    <li>You declare the amount of multiple dimensions when you create your array</li>\n",
    "    <li>A 2 dimensional array is just an array of arrays</li>\n",
    "    <li><strong>Rank</strong> defines how many dimensions an array contains</li>\n",
    "    <li><strong>Shape</strong> defines the length of each of the array's dimensions.</li>\n",
    "    <li>Each dimension is referred to as an <strong>axis</strong>, and are zero-indexed. Multiples are called <strong>axes</strong>.</li>\n",
    "    <li>Example: A 2D array is AKA <strong>matrix</strong></li>\n",
    "</ul>"
   ]
  },
  {
   "cell_type": "code",
   "execution_count": 13,
   "metadata": {},
   "outputs": [
    {
     "data": {
      "text/plain": [
       "array([[4.   , 3.285, 3.5  , 4.   ],\n",
       "       [3.2  , 3.8  , 4.   , 4.   ],\n",
       "       [3.96 , 3.92 , 4.   , 4.   ]], dtype=float16)"
      ]
     },
     "execution_count": 13,
     "metadata": {},
     "output_type": "execute_result"
    }
   ],
   "source": [
    "students_gpas = np.array([\n",
    "    [4.0, 3.286, 3.5, 4.0],\n",
    "    [3.2, 3.8, 4.0, 4.0],\n",
    "    [3.96, 3.92, 4.0, 4.0]\n",
    "],np.float16)\n",
    "students_gpas"
   ]
  },
  {
   "cell_type": "code",
   "execution_count": 14,
   "metadata": {},
   "outputs": [
    {
     "data": {
      "text/plain": [
       "2"
      ]
     },
     "execution_count": 14,
     "metadata": {},
     "output_type": "execute_result"
    }
   ],
   "source": [
    "# We can check how many dimensions our np.array has by using \n",
    "students_gpas.ndim"
   ]
  },
  {
   "cell_type": "code",
   "execution_count": 15,
   "metadata": {},
   "outputs": [
    {
     "data": {
      "text/plain": [
       "(3, 4)"
      ]
     },
     "execution_count": 15,
     "metadata": {},
     "output_type": "execute_result"
    }
   ],
   "source": [
    "# We can check the shape of the 2D array\n",
    "students_gpas.shape"
   ]
  },
  {
   "cell_type": "code",
   "execution_count": 16,
   "metadata": {},
   "outputs": [
    {
     "data": {
      "text/plain": [
       "12"
      ]
     },
     "execution_count": 16,
     "metadata": {},
     "output_type": "execute_result"
    }
   ],
   "source": [
    "# To get the total number of values in all\n",
    "students_gpas.size"
   ]
  },
  {
   "cell_type": "code",
   "execution_count": 17,
   "metadata": {},
   "outputs": [
    {
     "data": {
      "text/plain": [
       "3"
      ]
     },
     "execution_count": 17,
     "metadata": {},
     "output_type": "execute_result"
    }
   ],
   "source": [
    "# To get the length of each row\n",
    "len(students_gpas)"
   ]
  },
  {
   "cell_type": "code",
   "execution_count": 18,
   "metadata": {},
   "outputs": [
    {
     "data": {
      "text/plain": [
       "2"
      ]
     },
     "execution_count": 18,
     "metadata": {},
     "output_type": "execute_result"
    }
   ],
   "source": [
    "# To see how many bite is being used for each item\n",
    "students_gpas.itemsize"
   ]
  },
  {
   "cell_type": "code",
   "execution_count": 19,
   "metadata": {},
   "outputs": [
    {
     "data": {
      "text/plain": [
       "24"
      ]
     },
     "execution_count": 19,
     "metadata": {},
     "output_type": "execute_result"
    }
   ],
   "source": [
    "# Now we can see how much space we are taking up in the whole array (bite)\n",
    "students_gpas.itemsize * students_gpas.size"
   ]
  },
  {
   "cell_type": "code",
   "execution_count": 20,
   "metadata": {},
   "outputs": [
    {
     "name": "stdout",
     "output_type": "stream",
     "text": [
      "Variable        Type       Data/Info\n",
      "------------------------------------\n",
      "gpas            ndarray    4: 4 elems, type `float64`, 32 bytes\n",
      "students_gpas   ndarray    3x4: 12 elems, type `float16`, 24 bytes\n"
     ]
    }
   ],
   "source": [
    "# Let's look at what Jupyter says about our ndarrays so far\n",
    "%whos ndarray"
   ]
  },
  {
   "cell_type": "code",
   "execution_count": 21,
   "metadata": {},
   "outputs": [
    {
     "name": "stdout",
     "output_type": "stream",
     "text": [
      "class:  ndarray\n",
      "shape:  (3, 4)\n",
      "strides:  (8, 2)\n",
      "itemsize:  2\n",
      "aligned:  True\n",
      "contiguous:  True\n",
      "fortran:  False\n",
      "data pointer: 0x262d37c0180\n",
      "byteorder:  little\n",
      "byteswap:  False\n",
      "type: float16\n"
     ]
    }
   ],
   "source": [
    "# Let's use the command that is not just for Jupyter to see about the ndarrays\n",
    "np.info(students_gpas)"
   ]
  },
  {
   "cell_type": "code",
   "execution_count": 22,
   "metadata": {},
   "outputs": [
    {
     "data": {
      "text/plain": [
       "4.0"
      ]
     },
     "execution_count": 22,
     "metadata": {},
     "output_type": "execute_result"
    }
   ],
   "source": [
    "# Arrays can be chained to get a specific value\n",
    "students_gpas[2][3] # we are grabing the 3rd student but the 4th year value"
   ]
  },
  {
   "cell_type": "code",
   "execution_count": 23,
   "metadata": {
    "scrolled": true
   },
   "outputs": [
    {
     "data": {
      "text/plain": [
       "array([[4.   , 3.285, 3.5  , 4.   ],\n",
       "       [3.2  , 3.8  , 4.   , 4.   ],\n",
       "       [3.96 , 3.92 , 4.   , 4.   ]], dtype=float16)"
      ]
     },
     "execution_count": 23,
     "metadata": {},
     "output_type": "execute_result"
    }
   ],
   "source": [
    "students_gpas"
   ]
  },
  {
   "cell_type": "code",
   "execution_count": 24,
   "metadata": {},
   "outputs": [
    {
     "data": {
      "text/plain": [
       "array([3.695, 3.75 , 3.97 ], dtype=float16)"
      ]
     },
     "execution_count": 24,
     "metadata": {},
     "output_type": "execute_result"
    }
   ],
   "source": [
    "students_gpas.mean(axis=1)"
   ]
  },
  {
   "cell_type": "markdown",
   "metadata": {},
   "source": [
    "Let's say we want to figure the means (average) of each student.  We can do this by using <code>numpy.mean()</code> This will return the mean of all the students. But let's say we only want the means of each student in the same array.  We can do this by using <code>numpy.mean(axis=1)</code>. This will return the means of each student in the order of the array.  So, in our example, the first value is from the first array in student_gpas, and the second value came from the second array in our array student_gpas and the last value came from the last array in our array student_gpas."
   ]
  },
  {
   "cell_type": "code",
   "execution_count": 25,
   "metadata": {},
   "outputs": [
    {
     "data": {
      "text/plain": [
       "array([3.72 , 3.668, 3.834, 4.   ], dtype=float16)"
      ]
     },
     "execution_count": 25,
     "metadata": {},
     "output_type": "execute_result"
    }
   ],
   "source": [
    "# But if we put a 0 in the argument of numpy.mean(0). This will return\n",
    "# the mean of each column instead of the rows.\n",
    "students_gpas.mean(0)"
   ]
  },
  {
   "cell_type": "code",
   "execution_count": 102,
   "metadata": {},
   "outputs": [
    {
     "data": {
      "text/plain": [
       "[]"
      ]
     },
     "execution_count": 102,
     "metadata": {},
     "output_type": "execute_result"
    },
    {
     "data": {
      "image/png": "[encoded data removed]",
      "text/plain": [
       "<matplotlib.figure.Figure at 0x262d73bfb70>"
      ]
     },
     "metadata": {},
     "output_type": "display_data"
    }
   ],
   "source": [
    "plt.boxplot(students_gpas.T)\n",
    "plt.plot()"
   ]
  },
  {
   "cell_type": "markdown",
   "metadata": {},
   "source": [
    "### Let's Make A Study Log\n",
    "We want to work on our coding every day to get better. There is a code challenge called the #100daysofcoding challenge through twitter. The rules of this challenge are: You must log 60 minutes of coding every day for 100 days in order to beat the challenge. So, in order to do this challenge, we need a way to log our study times.  Let's create a study time Log! We will call it study_minutes. We will use a np.array to log our study minutes into our study_minutes array."
   ]
  },
  {
   "cell_type": "markdown",
   "metadata": {},
   "source": [
    "## About Data Types\n",
    "Before we get to deep into NumPy, let us get a little understanding of Data Types.  \n",
    "<ul>\n",
    "    <li>YWith data types, we can reduce the size required to store the objects by choosing the proper <a href=\"https://www.numpy.org/devdocs/user/basics.types.html\" target=\"_blank\" title=\"NumPy Data Types\">data type</a></li>\n",
    "    <li>The data type will be maintained by wrapping the values in a <a href=\"https://www.numpy.org/devdocs/user/basics.types.html#array-scalars\" target=\"_blank\" title=\"NumPy Array Scalars\">scalar array</a></li>\n",
    "</ul>"
   ]
  },
  {
   "cell_type": "code",
   "execution_count": 27,
   "metadata": {
    "scrolled": true
   },
   "outputs": [
    {
     "data": {
      "text/plain": [
       "array([0, 0, 0, 0, 0, 0, 0, 0, 0, 0, 0, 0, 0, 0, 0, 0, 0, 0, 0, 0, 0, 0,\n",
       "       0, 0, 0, 0, 0, 0, 0, 0, 0, 0, 0, 0, 0, 0, 0, 0, 0, 0, 0, 0, 0, 0,\n",
       "       0, 0, 0, 0, 0, 0, 0, 0, 0, 0, 0, 0, 0, 0, 0, 0, 0, 0, 0, 0, 0, 0,\n",
       "       0, 0, 0, 0, 0, 0, 0, 0, 0, 0, 0, 0, 0, 0, 0, 0, 0, 0, 0, 0, 0, 0,\n",
       "       0, 0, 0, 0, 0, 0, 0, 0, 0, 0, 0, 0], dtype=uint16)"
      ]
     },
     "execution_count": 27,
     "metadata": {},
     "output_type": "execute_result"
    }
   ],
   "source": [
    "# As we can see np.zeros is a handy way to create an empty array filled with zeros, as the name applies.\n",
    "study_minutes = np.zeros(100, np.uint16) \n",
    "study_minutes"
   ]
  },
  {
   "cell_type": "code",
   "execution_count": 106,
   "metadata": {},
   "outputs": [
    {
     "name": "stdout",
     "output_type": "stream",
     "text": [
      "Variable            Type           Data/Info\n",
      "--------------------------------------------\n",
      "a                   ndarray        5: 5 elems, type `int32`, 20 bytes\n",
      "b                   ndarray        5: 5 elems, type `int32`, 20 bytes\n",
      "below_60            ndarray        100: 100 elems, type `uint16`, 200 bytes\n",
      "copied              list           n=4\n",
      "fake_log            ndarray        100: 100 elems, type `uint16`, 200 bytes\n",
      "first_day_minutes   uint16         150\n",
      "fruit               list           n=4\n",
      "gpas                ndarray        4: 4 elems, type `float64`, 32 bytes\n",
      "gpas_as_list        list           n=4\n",
      "index               ndarray        2x2: 4 elems, type `int32`, 16 bytes\n",
      "not_copied          ndarray        7x6: 42 elems, type `int32`, 168 bytes\n",
      "np                  module         <module 'numpy' from 'C:\\<...>ges\\\\numpy\\\\__init__.py'>\n",
      "orders              ndarray        4x4: 16 elems, type `int32`, 64 bytes\n",
      "plt                 module         <module 'matplotlib.pyplo<...>\\\\matplotlib\\\\pyplot.py'>\n",
      "practice            ndarray        7x6: 42 elems, type `int32`, 168 bytes\n",
      "practice_view       ndarray        3x14: 42 elems, type `int32`, 168 bytes\n",
      "prices              ndarray        4: 4 elems, type `float64`, 32 bytes\n",
      "rand                RandomState    <mtrand.RandomState object at 0x00000262D7389438>\n",
      "students_gpas       ndarray        3x4: 12 elems, type `float16`, 24 bytes\n",
      "study_minutes       ndarray        3x100: 300 elems, type `uint16`, 600 bytes\n",
      "totals              ndarray        4: 4 elems, type `float64`, 32 bytes\n",
      "under_60_fake_log   list           n=20\n",
      "x1                  ndarray        3x3: 9 elems, type `float64`, 72 bytes\n",
      "x2                  ndarray        3: 3 elems, type `float64`, 24 bytes\n"
     ]
    },
    {
     "data": {
      "text/plain": [
       "'With Jupyter you can use this method to get data / Info on all the \\nVariables you have made in the Jupyter notebook.  As seen from below you can\\nsee what we have done so far.\\n'"
      ]
     },
     "execution_count": 106,
     "metadata": {},
     "output_type": "execute_result"
    }
   ],
   "source": [
    "%whos \n",
    "'''\n",
    "With Jupyter you can use this method to get data / Info on all the \n",
    "Variables you have made in the Jupyter notebook.  As seen from below you can\n",
    "see what we have done so far.\n",
    "''' "
   ]
  },
  {
   "cell_type": "code",
   "execution_count": 29,
   "metadata": {},
   "outputs": [],
   "source": [
    "study_minutes[0] = 150"
   ]
  },
  {
   "cell_type": "code",
   "execution_count": 30,
   "metadata": {},
   "outputs": [],
   "source": [
    "first_day_minutes = study_minutes[0]"
   ]
  },
  {
   "cell_type": "code",
   "execution_count": 31,
   "metadata": {},
   "outputs": [
    {
     "data": {
      "text/plain": [
       "150"
      ]
     },
     "execution_count": 31,
     "metadata": {},
     "output_type": "execute_result"
    }
   ],
   "source": [
    "first_day_minutes"
   ]
  },
  {
   "cell_type": "code",
   "execution_count": 32,
   "metadata": {},
   "outputs": [
    {
     "data": {
      "text/plain": [
       "numpy.uint16"
      ]
     },
     "execution_count": 32,
     "metadata": {},
     "output_type": "execute_result"
    }
   ],
   "source": [
    "type(first_day_minutes)"
   ]
  },
  {
   "cell_type": "markdown",
   "metadata": {},
   "source": [
    "## Creation\n",
    "We will learn about <code>np.random.RandomState</code> and <code>np.append()</code>  \n",
    "<ul>\n",
    "    <li>You can create a random but bound grouping of values using the <code>np.random</code> package.</li>\n",
    "    <ul>\n",
    "        <li><a href=\"https://www.numpy.org/devdocs/reference/generated/numpy.random.RandomState.html#numpy.random.RandomState\" target=\"_blank\" title=\"NumPy random.RandomState\">RandomState</a> lets you seed your randomness in a way that is repeatable</li>\n",
    "    </ul>\n",
    "    <li>Here are a couple of ways to append an array</li>\n",
    "    <ul>\n",
    "        <li>One is by the use of <code>np.append()</code> method. You need to make sure the new row has the same shape by the use of <code>name_of_array_you_are_appending_to.shape</code></li>\n",
    "        <li>By creating or reassigning a new array by including the existing array as part of the iterable in creation.</li>\n",
    "    </ul>\n",
    "</ul>\n",
    "\n",
    "## Indexing\n",
    "<ul>\n",
    "    <li>We can use indexing shortcut on an array by separating indexes with a comma</li>\n",
    "    <li>We can index using a <code>list</code> or <code>np.array</code>. This is called <a href=\"https://www.numpy.org/devdocs/user/basics.indexing.html#index-arrays\" target=\"_blank\" title=\"NumPy Index Array\">Index Arrays</a>.</li>\n",
    "    <ul>\n",
    "        <li>The resulting array shape matches the index array layout and returns a copy and not a view of the array.</li>\n",
    "    </ul>\n",
    "    <li>Use parenthesis to index with tuple and use square brackets for indexing with index arrays.</li>\n",
    "</ul>"
   ]
  },
  {
   "cell_type": "code",
   "execution_count": 33,
   "metadata": {},
   "outputs": [],
   "source": [
    "study_minutes[1] = 60"
   ]
  },
  {
   "cell_type": "code",
   "execution_count": 34,
   "metadata": {},
   "outputs": [
    {
     "data": {
      "text/plain": [
       "array([150,  60,  80,  60,  30,  90,   0,   0,   0,   0,   0,   0,   0,\n",
       "         0,   0,   0,   0,   0,   0,   0,   0,   0,   0,   0,   0,   0,\n",
       "         0,   0,   0,   0,   0,   0,   0,   0,   0,   0,   0,   0,   0,\n",
       "         0,   0,   0,   0,   0,   0,   0,   0,   0,   0,   0,   0,   0,\n",
       "         0,   0,   0,   0,   0,   0,   0,   0,   0,   0,   0,   0,   0,\n",
       "         0,   0,   0,   0,   0,   0,   0,   0,   0,   0,   0,   0,   0,\n",
       "         0,   0,   0,   0,   0,   0,   0,   0,   0,   0,   0,   0,   0,\n",
       "         0,   0,   0,   0,   0,   0,   0,   0,   0], dtype=uint16)"
      ]
     },
     "execution_count": 34,
     "metadata": {},
     "output_type": "execute_result"
    }
   ],
   "source": [
    "# Here we tell NumPy that we want to assign new values to indexes 2 through 5\n",
    "# This is a slice used to index. We will talk more about using slicing on down.\n",
    "study_minutes[2:6] = [80,60,30,90]\n",
    "study_minutes"
   ]
  },
  {
   "cell_type": "code",
   "execution_count": 35,
   "metadata": {},
   "outputs": [],
   "source": [
    "'''\n",
    "We had good intentions to do the 100 days of coding but, sometimes\n",
    "life can happen.  So, how do we show that we want to do the coding challenge\n",
    "again?  We can insert an array into our array.\n",
    "'''\n",
    "study_minutes = np.array([\n",
    "    study_minutes,\n",
    "    np.zeros(100, np.uint16) # Here NumPy will return an array filled with zeros\n",
    "])"
   ]
  },
  {
   "cell_type": "code",
   "execution_count": 36,
   "metadata": {},
   "outputs": [
    {
     "data": {
      "text/plain": [
       "(2, 100)"
      ]
     },
     "execution_count": 36,
     "metadata": {},
     "output_type": "execute_result"
    }
   ],
   "source": [
    "# The shape of the new study_minutes is\n",
    "study_minutes.shape"
   ]
  },
  {
   "cell_type": "markdown",
   "metadata": {},
   "source": [
    "We can see that <code>study_minutes</code> is an array of arrays. It is now a matrix (2D array)"
   ]
  },
  {
   "cell_type": "code",
   "execution_count": 37,
   "metadata": {},
   "outputs": [
    {
     "data": {
      "text/plain": [
       "array([[150,  60,  80,  60,  30,  90,   0,   0,   0,   0,   0,   0,   0,\n",
       "          0,   0,   0,   0,   0,   0,   0,   0,   0,   0,   0,   0,   0,\n",
       "          0,   0,   0,   0,   0,   0,   0,   0,   0,   0,   0,   0,   0,\n",
       "          0,   0,   0,   0,   0,   0,   0,   0,   0,   0,   0,   0,   0,\n",
       "          0,   0,   0,   0,   0,   0,   0,   0,   0,   0,   0,   0,   0,\n",
       "          0,   0,   0,   0,   0,   0,   0,   0,   0,   0,   0,   0,   0,\n",
       "          0,   0,   0,   0,   0,   0,   0,   0,   0,   0,   0,   0,   0,\n",
       "          0,   0,   0,   0,   0,   0,   0,   0,   0],\n",
       "       [ 60,   0,   0,   0,   0,   0,   0,   0,   0,   0,   0,   0,   0,\n",
       "          0,   0,   0,   0,   0,   0,   0,   0,   0,   0,   0,   0,   0,\n",
       "          0,   0,   0,   0,   0,   0,   0,   0,   0,   0,   0,   0,   0,\n",
       "          0,   0,   0,   0,   0,   0,   0,   0,   0,   0,   0,   0,   0,\n",
       "          0,   0,   0,   0,   0,   0,   0,   0,   0,   0,   0,   0,   0,\n",
       "          0,   0,   0,   0,   0,   0,   0,   0,   0,   0,   0,   0,   0,\n",
       "          0,   0,   0,   0,   0,   0,   0,   0,   0,   0,   0,   0,   0,\n",
       "          0,   0,   0,   0,   0,   0,   0,   0,   0]], dtype=uint16)"
      ]
     },
     "execution_count": 37,
     "metadata": {},
     "output_type": "execute_result"
    }
   ],
   "source": [
    "# We are setting into our new Row our study time for day 1 of Round 2\n",
    "study_minutes[1][0] = 60\n",
    "\n",
    "study_minutes"
   ]
  },
  {
   "cell_type": "code",
   "execution_count": 38,
   "metadata": {},
   "outputs": [
    {
     "data": {
      "text/plain": [
       "array([132, 122, 128,  44, 136, 129, 101,  95,  50, 132, 151,  64, 104,\n",
       "       175, 117, 146, 139, 129, 133, 176,  98, 160, 179,  99,  82, 142,\n",
       "        31, 106, 117,  56,  98,  67, 121, 159,  81, 170,  31,  50,  49,\n",
       "        87, 179,  51, 116, 177, 118,  78, 171, 117,  88, 123, 102,  44,\n",
       "        79,  31, 108,  80,  59, 137,  84,  93, 155, 160,  67,  80, 166,\n",
       "       164,  70,  50, 102, 113,  47, 131, 161, 118,  82,  89,  81,  43,\n",
       "        81,  38, 119,  52,  82,  31, 159,  57, 113,  71, 121, 140,  91,\n",
       "        70,  37, 106,  64, 127, 110,  58,  93,  79], dtype=uint16)"
      ]
     },
     "execution_count": 38,
     "metadata": {},
     "output_type": "execute_result"
    }
   ],
   "source": [
    "# We want to make our own fake 100 day log to play with.\n",
    "# We are going to create our own random fake log.\n",
    "rand = np.random.RandomState(42)\n",
    "fake_log = rand.randint(30, 180, size=100, dtype=np.uint16)\n",
    "fake_log"
   ]
  },
  {
   "cell_type": "code",
   "execution_count": 39,
   "metadata": {},
   "outputs": [],
   "source": [
    "under_60_fake_log = [num for num in fake_log if num < 60]"
   ]
  },
  {
   "cell_type": "code",
   "execution_count": 40,
   "metadata": {},
   "outputs": [
    {
     "data": {
      "text/plain": [
       "array([44, 50, 31, 56, 31, 50, 49, 51, 44, 31, 59, 50, 47, 43, 38, 52, 31,\n",
       "       57, 37, 58], dtype=uint16)"
      ]
     },
     "execution_count": 40,
     "metadata": {},
     "output_type": "execute_result"
    }
   ],
   "source": [
    "np.array(under_60_fake_log)"
   ]
  },
  {
   "cell_type": "code",
   "execution_count": 41,
   "metadata": {},
   "outputs": [
    {
     "data": {
      "text/plain": [
       "20"
      ]
     },
     "execution_count": 41,
     "metadata": {},
     "output_type": "execute_result"
    }
   ],
   "source": [
    "len(under_60_fake_log)"
   ]
  },
  {
   "cell_type": "code",
   "execution_count": 42,
   "metadata": {},
   "outputs": [
    {
     "data": {
      "text/plain": [
       "array([[ 44,  50],\n",
       "       [132, 122]], dtype=uint16)"
      ]
     },
     "execution_count": 42,
     "metadata": {},
     "output_type": "execute_result"
    }
   ],
   "source": [
    "index = np.array([\n",
    "    [3,8],\n",
    "    [0,1]\n",
    "])\n",
    "fake_log[index]"
   ]
  },
  {
   "cell_type": "code",
   "execution_count": 43,
   "metadata": {},
   "outputs": [
    {
     "ename": "ValueError",
     "evalue": "all the input arrays must have same number of dimensions",
     "output_type": "error",
     "traceback": [
      "\u001b[1;31m---------------------------------------------------------------------------\u001b[0m",
      "\u001b[1;31mValueError\u001b[0m                                Traceback (most recent call last)",
      "\u001b[1;32m<ipython-input-43-19d37107eccc>\u001b[0m in \u001b[0;36m<module>\u001b[1;34m()\u001b[0m\n\u001b[1;32m----> 1\u001b[1;33m \u001b[0mstudy_minutes\u001b[0m \u001b[1;33m=\u001b[0m \u001b[0mnp\u001b[0m\u001b[1;33m.\u001b[0m\u001b[0mappend\u001b[0m\u001b[1;33m(\u001b[0m\u001b[0mstudy_minutes\u001b[0m\u001b[1;33m,\u001b[0m \u001b[0mfake_log\u001b[0m\u001b[1;33m,\u001b[0m \u001b[0maxis\u001b[0m\u001b[1;33m=\u001b[0m\u001b[1;36m0\u001b[0m\u001b[1;33m)\u001b[0m\u001b[1;33m\u001b[0m\u001b[0m\n\u001b[0m",
      "\u001b[1;32m~\\Python36\\lib\\site-packages\\numpy\\lib\\function_base.py\u001b[0m in \u001b[0;36mappend\u001b[1;34m(arr, values, axis)\u001b[0m\n\u001b[0;32m   5164\u001b[0m         \u001b[0mvalues\u001b[0m \u001b[1;33m=\u001b[0m \u001b[0mravel\u001b[0m\u001b[1;33m(\u001b[0m\u001b[0mvalues\u001b[0m\u001b[1;33m)\u001b[0m\u001b[1;33m\u001b[0m\u001b[0m\n\u001b[0;32m   5165\u001b[0m         \u001b[0maxis\u001b[0m \u001b[1;33m=\u001b[0m \u001b[0marr\u001b[0m\u001b[1;33m.\u001b[0m\u001b[0mndim\u001b[0m\u001b[1;33m-\u001b[0m\u001b[1;36m1\u001b[0m\u001b[1;33m\u001b[0m\u001b[0m\n\u001b[1;32m-> 5166\u001b[1;33m     \u001b[1;32mreturn\u001b[0m \u001b[0mconcatenate\u001b[0m\u001b[1;33m(\u001b[0m\u001b[1;33m(\u001b[0m\u001b[0marr\u001b[0m\u001b[1;33m,\u001b[0m \u001b[0mvalues\u001b[0m\u001b[1;33m)\u001b[0m\u001b[1;33m,\u001b[0m \u001b[0maxis\u001b[0m\u001b[1;33m=\u001b[0m\u001b[0maxis\u001b[0m\u001b[1;33m)\u001b[0m\u001b[1;33m\u001b[0m\u001b[0m\n\u001b[0m",
      "\u001b[1;31mValueError\u001b[0m: all the input arrays must have same number of dimensions"
     ]
    }
   ],
   "source": [
    "# We are trying to append two arrays together.  But it will throw an error because the arrays must be of the \n",
    "# same dimension\n",
    "study_minutes = np.append(study_minutes, fake_log, axis=0)"
   ]
  },
  {
   "cell_type": "markdown",
   "metadata": {},
   "source": [
    "We can see from the ValueError: That all the input arrays must have the same number of dimensions.  Ok, We need to fix this to be able to append fake_log to our study_minutes array."
   ]
  },
  {
   "cell_type": "code",
   "execution_count": 44,
   "metadata": {},
   "outputs": [],
   "source": [
    "# Here is one hack we can use to fix the dimension problem\n",
    "study_minutes = np.append(study_minutes, [fake_log],axis=0)"
   ]
  },
  {
   "cell_type": "code",
   "execution_count": 107,
   "metadata": {},
   "outputs": [],
   "source": [
    "# Here we used an index array, it is a tuple short cut\n",
    "study_minutes[(1,1)] = 360"
   ]
  },
  {
   "cell_type": "code",
   "execution_count": 108,
   "metadata": {},
   "outputs": [
    {
     "data": {
      "text/plain": [
       "(3, 100)"
      ]
     },
     "execution_count": 108,
     "metadata": {},
     "output_type": "execute_result"
    }
   ],
   "source": [
    "study_minutes.shape"
   ]
  },
  {
   "cell_type": "code",
   "execution_count": 109,
   "metadata": {},
   "outputs": [
    {
     "data": {
      "text/plain": [
       "array([[150,  60,  80,  60,   0,  90,   0,   0,   0,   0,   0,   0,   0,\n",
       "          0,   0,   0,   0,   0,   0,   0,   0,   0,   0,   0,   0,   0,\n",
       "          0,   0,   0,   0,   0,   0,   0,   0,   0,   0,   0,   0,   0,\n",
       "          0,   0,   0,   0,   0,   0,   0,   0,   0,   0,   0,   0,   0,\n",
       "          0,   0,   0,   0,   0,   0,   0,   0,   0,   0,   0,   0,   0,\n",
       "          0,   0,   0,   0,   0,   0,   0,   0,   0,   0,   0,   0,   0,\n",
       "          0,   0,   0,   0,   0,   0,   0,   0,   0,   0,   0,   0,   0,\n",
       "          0,   0,   0,   0,   0,   0,   0,   0,   0],\n",
       "       [ 60, 360,   0,   0,   0,   0,   0,   0,   0,   0,   0,   0,   0,\n",
       "          0,   0,   0,   0,   0,   0,   0,   0,   0,   0,   0,   0,   0,\n",
       "          0,   0,   0,   0,   0,   0,   0,   0,   0,   0,   0,   0,   0,\n",
       "          0,   0,   0,   0,   0,   0,   0,   0,   0,   0,   0,   0,   0,\n",
       "          0,   0,   0,   0,   0,   0,   0,   0,   0,   0,   0,   0,   0,\n",
       "          0,   0,   0,   0,   0,   0,   0,   0,   0,   0,   0,   0,   0,\n",
       "          0,   0,   0,   0,   0,   0,   0,   0,   0,   0,   0,   0,   0,\n",
       "          0,   0,   0,   0,   0,   0,   0,   0,   0],\n",
       "       [132, 122, 128,   0, 136, 129, 101,  95,   0, 132, 151,  64, 104,\n",
       "        175, 117, 146, 139, 129, 133, 176,  98, 160, 179,  99,  82, 142,\n",
       "          0, 106, 117,   0,  98,  67, 121, 159,  81, 170,   0,   0,   0,\n",
       "         87, 179,   0, 116, 177, 118,  78, 171, 117,  88, 123, 102,   0,\n",
       "         79,   0, 108,  80,   0, 137,  84,  93, 155, 160,  67,  80, 166,\n",
       "        164,  70,   0, 102, 113,   0, 131, 161, 118,  82,  89,  81,   0,\n",
       "         81,   0, 119,   0,  82,   0, 159,   0, 113,  71, 121, 140,  91,\n",
       "         70,   0, 106,  64, 127, 110,   0,  93,  79]], dtype=uint16)"
      ]
     },
     "execution_count": 109,
     "metadata": {},
     "output_type": "execute_result"
    }
   ],
   "source": [
    "study_minutes"
   ]
  },
  {
   "cell_type": "code",
   "execution_count": 48,
   "metadata": {},
   "outputs": [],
   "source": [
    "below_60 = np.array([num for num in study_minutes[2] if num < 60])"
   ]
  },
  {
   "cell_type": "code",
   "execution_count": 49,
   "metadata": {},
   "outputs": [
    {
     "data": {
      "text/plain": [
       "array([44, 50, 31, 56, 31, 50, 49, 51, 44, 31, 59, 50, 47, 43, 38, 52, 31,\n",
       "       57, 37, 58], dtype=uint16)"
      ]
     },
     "execution_count": 49,
     "metadata": {},
     "output_type": "execute_result"
    }
   ],
   "source": [
    "below_60"
   ]
  },
  {
   "cell_type": "code",
   "execution_count": 50,
   "metadata": {},
   "outputs": [
    {
     "data": {
      "text/plain": [
       "array([44, 50, 31, 56, 31, 50, 49, 51, 44, 31, 59, 50, 47, 43, 38, 52, 31,\n",
       "       57, 37, 58], dtype=uint16)"
      ]
     },
     "execution_count": 50,
     "metadata": {},
     "output_type": "execute_result"
    }
   ],
   "source": [
    "# Or we can do this without having to use the line function\n",
    "# This will return a view of the below_60 array.\n",
    "# In the index we call our function (boolean). Now is that cool or what?\n",
    "below_60 = study_minutes[2]\n",
    "below_60[below_60<60]"
   ]
  },
  {
   "cell_type": "markdown",
   "metadata": {},
   "source": [
    "## We are using & and not And\n",
    "We use <code>&</code> to compare element by element values in the <code>np.array</code>  \n",
    "If we were to use <code>and</code> instead we would get an error, NumPy is trying to make things a scalar truthy value.  \n",
    "\n",
    "## Boolean Array Indexing\n",
    "<ul>\n",
    "    <li>Create a boolean array with the comparison operators on an array.</li>\n",
    "    <ul>\n",
    "        <li>You can use index array on boolean arrays.</li>\n",
    "        <li>By using bitwise operators(<code>&, |</code>), you can compare the Boolean arrays.</li>\n",
    "        <ul>\n",
    "            <li>Remember not to use the <code>and</code> keyword.</li>\n",
    "            <li>Make sure you do the order of operations when combining the Booleans</li>\n",
    "        </ul>\n",
    "    </ul>\n",
    "    <li>Boolean indexing returns a new array, you can update an existing array using a boolean index.</li>\n",
    "</ul>"
   ]
  },
  {
   "cell_type": "code",
   "execution_count": 51,
   "metadata": {},
   "outputs": [
    {
     "data": {
      "text/plain": [
       "array([30, 44, 50, 31, 56, 31, 50, 49, 51, 44, 31, 59, 50, 47, 43, 38, 52,\n",
       "       31, 57, 37, 58], dtype=uint16)"
      ]
     },
     "execution_count": 51,
     "metadata": {},
     "output_type": "execute_result"
    }
   ],
   "source": [
    "# Here we do the evaluation in an array.\n",
    "# We are asking NumPy to return values less than 60 but greater than 0\n",
    "# If our code block is True on both () then it will return the value\n",
    "# This array that is returned is a view array of study_minutes array\n",
    "study_minutes[(study_minutes<60) & (study_minutes>0)]"
   ]
  },
  {
   "cell_type": "code",
   "execution_count": 52,
   "metadata": {},
   "outputs": [],
   "source": [
    "# Ok we want to get rid of the below 60 minute times because it does not \n",
    "# count towards our one hour of coding per day challenge.\n",
    "# Every value less than 60 will be converted to 0\n",
    "study_minutes[study_minutes<60] = 0"
   ]
  },
  {
   "cell_type": "code",
   "execution_count": 53,
   "metadata": {},
   "outputs": [
    {
     "data": {
      "text/plain": [
       "array([[150,  60,  80,  60,   0,  90,   0,   0,   0,   0,   0,   0,   0,\n",
       "          0,   0,   0,   0,   0,   0,   0,   0,   0,   0,   0,   0,   0,\n",
       "          0,   0,   0,   0,   0,   0,   0,   0,   0,   0,   0,   0,   0,\n",
       "          0,   0,   0,   0,   0,   0,   0,   0,   0,   0,   0,   0,   0,\n",
       "          0,   0,   0,   0,   0,   0,   0,   0,   0,   0,   0,   0,   0,\n",
       "          0,   0,   0,   0,   0,   0,   0,   0,   0,   0,   0,   0,   0,\n",
       "          0,   0,   0,   0,   0,   0,   0,   0,   0,   0,   0,   0,   0,\n",
       "          0,   0,   0,   0,   0,   0,   0,   0,   0],\n",
       "       [ 60, 360,   0,   0,   0,   0,   0,   0,   0,   0,   0,   0,   0,\n",
       "          0,   0,   0,   0,   0,   0,   0,   0,   0,   0,   0,   0,   0,\n",
       "          0,   0,   0,   0,   0,   0,   0,   0,   0,   0,   0,   0,   0,\n",
       "          0,   0,   0,   0,   0,   0,   0,   0,   0,   0,   0,   0,   0,\n",
       "          0,   0,   0,   0,   0,   0,   0,   0,   0,   0,   0,   0,   0,\n",
       "          0,   0,   0,   0,   0,   0,   0,   0,   0,   0,   0,   0,   0,\n",
       "          0,   0,   0,   0,   0,   0,   0,   0,   0,   0,   0,   0,   0,\n",
       "          0,   0,   0,   0,   0,   0,   0,   0,   0],\n",
       "       [132, 122, 128,   0, 136, 129, 101,  95,   0, 132, 151,  64, 104,\n",
       "        175, 117, 146, 139, 129, 133, 176,  98, 160, 179,  99,  82, 142,\n",
       "          0, 106, 117,   0,  98,  67, 121, 159,  81, 170,   0,   0,   0,\n",
       "         87, 179,   0, 116, 177, 118,  78, 171, 117,  88, 123, 102,   0,\n",
       "         79,   0, 108,  80,   0, 137,  84,  93, 155, 160,  67,  80, 166,\n",
       "        164,  70,   0, 102, 113,   0, 131, 161, 118,  82,  89,  81,   0,\n",
       "         81,   0, 119,   0,  82,   0, 159,   0, 113,  71, 121, 140,  91,\n",
       "         70,   0, 106,  64, 127, 110,   0,  93,  79]], dtype=uint16)"
      ]
     },
     "execution_count": 53,
     "metadata": {},
     "output_type": "execute_result"
    }
   ],
   "source": [
    "study_minutes"
   ]
  },
  {
   "cell_type": "markdown",
   "metadata": {},
   "source": [
    "As we can see that everything that was below 60 is now a zero. Sad. We did not make the 100DaysOfCoding Challenge.  But we can always start another round!!"
   ]
  },
  {
   "cell_type": "code",
   "execution_count": 54,
   "metadata": {},
   "outputs": [
    {
     "data": {
      "text/plain": [
       "440"
      ]
     },
     "execution_count": 54,
     "metadata": {},
     "output_type": "execute_result"
    }
   ],
   "source": [
    "# What we are doing here is adding up all our minutes in the Round 1 which\n",
    "# is in index 0.\n",
    "np.add.reduce(study_minutes[0])"
   ]
  },
  {
   "cell_type": "markdown",
   "metadata": {},
   "source": [
    "So, you are saying why did we not just use np.add(study_minutes[0]).  Good question.  To answer this question we need to look at what np.add() does.  \n",
    "<a href=\"https://www.numpy.org/devdocs/reference/generated/numpy.add.html#numpy.add\" target=\"_blank\" title=\"NumPy.add()\">np.add()</a> requires two arguments (arrays) to be passed into it. (And they must be of the same dimension (shape)) and then np.add() will add the two arrays.  To be able to just add the values in our array we have to pass in the <a href=\"https://www.numpy.org/devdocs/reference/generated/numpy.ufunc.reduce.html#numpy.ufunc.reduce\" target=\"_blank\" title=\"ufunc.reduce()\">.reduce()</a> ufunc to make NumPy only add the values in our single array and not add two arrays together."
   ]
  },
  {
   "cell_type": "code",
   "execution_count": 55,
   "metadata": {},
   "outputs": [
    {
     "data": {
      "text/plain": [
       "440"
      ]
     },
     "execution_count": 55,
     "metadata": {},
     "output_type": "execute_result"
    }
   ],
   "source": [
    "# We can also use np.sum()\n",
    "np.sum(study_minutes[0])"
   ]
  },
  {
   "cell_type": "code",
   "execution_count": 56,
   "metadata": {},
   "outputs": [
    {
     "data": {
      "text/plain": [
       "array([ 440,  420, 9290], dtype=uint32)"
      ]
     },
     "execution_count": 56,
     "metadata": {},
     "output_type": "execute_result"
    }
   ],
   "source": [
    "# We can use sum to calculate each round\n",
    "np.sum(study_minutes, axis=1)"
   ]
  },
  {
   "cell_type": "code",
   "execution_count": 57,
   "metadata": {},
   "outputs": [
    {
     "data": {
      "text/plain": [
       "10150"
      ]
     },
     "execution_count": 57,
     "metadata": {},
     "output_type": "execute_result"
    }
   ],
   "source": [
    "# Or we can use sum to sum the whole np.study_minutes array\n",
    "np.sum(study_minutes)"
   ]
  },
  {
   "cell_type": "code",
   "execution_count": 114,
   "metadata": {},
   "outputs": [
    {
     "data": {
      "text/plain": [
       "[]"
      ]
     },
     "execution_count": 114,
     "metadata": {},
     "output_type": "execute_result"
    },
    {
     "data": {
      "image/png": "[encoded data removed]",
      "text/plain": [
       "<matplotlib.figure.Figure at 0x262dd907dd8>"
      ]
     },
     "metadata": {},
     "output_type": "display_data"
    }
   ],
   "source": [
    "# Now that we have our data cleaned a little. Let us try to plot it.\n",
    "# Here we will plot all the study_minutes greater than 0\n",
    "plt.hist(study_minutes[study_minutes>0])\n",
    "plt.plot()"
   ]
  },
  {
   "cell_type": "markdown",
   "metadata": {},
   "source": [
    "## Let's Refresh on Slicing\n",
    "We will practice on doing some slicing to refresh our minds on how slicing works. \n",
    "<ul>\n",
    "    <li><strong>Note:</strong> When we slice, we are creating a data view of the array and not a new array.</li>\n",
    "    <li>You can use commas to separate each dimension slice. Meaning, first slice arguments is called on the row slicing then we put in a <code> , </code> to call on the column slicing.</li>  \n",
    "    <li>We can jump over any row or column by adding this argument to the end of either row or column arguments</li>\n",
    "</ul>\n",
    "  \n",
    "Below I will show examples of how to check if the array is a view or if it is the original. <a href=\"#Is-It-A-View\">Click here</a> to jump to that section."
   ]
  },
  {
   "cell_type": "code",
   "execution_count": 58,
   "metadata": {},
   "outputs": [],
   "source": [
    "fruit = [\"apple\", \"banana\", \"cherry\", \"durian\"]"
   ]
  },
  {
   "cell_type": "code",
   "execution_count": 59,
   "metadata": {},
   "outputs": [
    {
     "data": {
      "text/plain": [
       "['banana', 'cherry']"
      ]
     },
     "execution_count": 59,
     "metadata": {},
     "output_type": "execute_result"
    }
   ],
   "source": [
    "fruit[1:3]"
   ]
  },
  {
   "cell_type": "code",
   "execution_count": 60,
   "metadata": {},
   "outputs": [
    {
     "data": {
      "text/plain": [
       "['apple', 'banana', 'cherry']"
      ]
     },
     "execution_count": 60,
     "metadata": {},
     "output_type": "execute_result"
    }
   ],
   "source": [
    "fruit[:3]"
   ]
  },
  {
   "cell_type": "code",
   "execution_count": 61,
   "metadata": {},
   "outputs": [
    {
     "data": {
      "text/plain": [
       "['durian']"
      ]
     },
     "execution_count": 61,
     "metadata": {},
     "output_type": "execute_result"
    }
   ],
   "source": [
    "fruit[3:]"
   ]
  },
  {
   "cell_type": "code",
   "execution_count": 62,
   "metadata": {},
   "outputs": [
    {
     "data": {
      "text/plain": [
       "['apple', 'banana', 'cherry', 'durian']"
      ]
     },
     "execution_count": 62,
     "metadata": {},
     "output_type": "execute_result"
    }
   ],
   "source": [
    "fruit[:]"
   ]
  },
  {
   "cell_type": "code",
   "execution_count": 63,
   "metadata": {},
   "outputs": [],
   "source": [
    "# Here we make a copy of fruit\n",
    "copied = fruit[:]"
   ]
  },
  {
   "cell_type": "code",
   "execution_count": 64,
   "metadata": {},
   "outputs": [],
   "source": [
    "# With our copy from fruit we are going to add cheese to our new copy\n",
    "copied[3] = \"cheese\""
   ]
  },
  {
   "cell_type": "code",
   "execution_count": 65,
   "metadata": {},
   "outputs": [
    {
     "data": {
      "text/plain": [
       "(['apple', 'banana', 'cherry', 'durian'],\n",
       " ['apple', 'banana', 'cherry', 'cheese'])"
      ]
     },
     "execution_count": 65,
     "metadata": {},
     "output_type": "execute_result"
    }
   ],
   "source": [
    "# In our copied we have added cheese where durian was.\n",
    "# We can see that added to copied has not changed our oringial list fruit\n",
    "fruit, copied"
   ]
  },
  {
   "cell_type": "code",
   "execution_count": 66,
   "metadata": {},
   "outputs": [
    {
     "data": {
      "text/plain": [
       "['apple', 'cherry']"
      ]
     },
     "execution_count": 66,
     "metadata": {},
     "output_type": "execute_result"
    }
   ],
   "source": [
    "# We can also use step with slicing to skip over the values we don't want\n",
    "fruit[::2]"
   ]
  },
  {
   "cell_type": "code",
   "execution_count": 67,
   "metadata": {},
   "outputs": [
    {
     "data": {
      "text/plain": [
       "['durian', 'cherry', 'banana', 'apple']"
      ]
     },
     "execution_count": 67,
     "metadata": {},
     "output_type": "execute_result"
    }
   ],
   "source": [
    "# And we can also sort the slicing backwords by the use of [::-1] stepping\n",
    "fruit[::-1]"
   ]
  },
  {
   "cell_type": "code",
   "execution_count": 68,
   "metadata": {},
   "outputs": [
    {
     "data": {
      "text/plain": [
       "array([ 0,  1,  2,  3,  4,  5,  6,  7,  8,  9, 10, 11, 12, 13, 14, 15, 16,\n",
       "       17, 18, 19])"
      ]
     },
     "execution_count": 68,
     "metadata": {},
     "output_type": "execute_result"
    }
   ],
   "source": [
    "# Here we are going to use NumPy arange to call a array of integers up to\n",
    "# but not including the number we put into the argument.\n",
    "np.arange(20)"
   ]
  },
  {
   "cell_type": "code",
   "execution_count": 69,
   "metadata": {},
   "outputs": [
    {
     "data": {
      "text/plain": [
       "array([[ 0,  1,  2,  3,  4,  5],\n",
       "       [ 6,  7,  8,  9, 10, 11],\n",
       "       [12, 13, 14, 15, 16, 17],\n",
       "       [18, 19, 20, 21, 22, 23],\n",
       "       [24, 25, 26, 27, 28, 29],\n",
       "       [30, 31, 32, 33, 34, 35],\n",
       "       [36, 37, 38, 39, 40, 41]])"
      ]
     },
     "execution_count": 69,
     "metadata": {},
     "output_type": "execute_result"
    }
   ],
   "source": [
    "# We are going to make an array of arrays (matrices) with 42 values with 7 arrays and 6 columns\n",
    "practice = np.arange(42)\n",
    "practice.shape = (7,6)\n",
    "practice"
   ]
  },
  {
   "cell_type": "code",
   "execution_count": 70,
   "metadata": {},
   "outputs": [
    {
     "data": {
      "text/plain": [
       "13"
      ]
     },
     "execution_count": 70,
     "metadata": {},
     "output_type": "execute_result"
    }
   ],
   "source": [
    "# We are going to grab value 13 out of our array\n",
    "practice[2,1]"
   ]
  },
  {
   "cell_type": "code",
   "execution_count": 71,
   "metadata": {},
   "outputs": [
    {
     "data": {
      "text/plain": [
       "array([[12, 13, 14, 15, 16, 17],\n",
       "       [18, 19, 20, 21, 22, 23],\n",
       "       [24, 25, 26, 27, 28, 29]])"
      ]
     },
     "execution_count": 71,
     "metadata": {},
     "output_type": "execute_result"
    }
   ],
   "source": [
    "# Now let's grab row 2 through 5, note the slicing ending is\n",
    "# exclusive not inclusive\n",
    "practice[2:5]"
   ]
  },
  {
   "cell_type": "code",
   "execution_count": 72,
   "metadata": {},
   "outputs": [
    {
     "data": {
      "text/plain": [
       "array([15, 21, 27])"
      ]
     },
     "execution_count": 72,
     "metadata": {},
     "output_type": "execute_result"
    }
   ],
   "source": [
    "# We now just want the column 3 of our slice array\n",
    "# Note: the , to seperate the slicing of the rows and the slice of the column\n",
    "practice[2:5, 3]"
   ]
  },
  {
   "cell_type": "code",
   "execution_count": 73,
   "metadata": {},
   "outputs": [
    {
     "data": {
      "text/plain": [
       "array([[15, 16, 17],\n",
       "       [21, 22, 23],\n",
       "       [27, 28, 29]])"
      ]
     },
     "execution_count": 73,
     "metadata": {},
     "output_type": "execute_result"
    }
   ],
   "source": [
    "# We can also call that column to the end. \n",
    "practice[2:5, 3:]"
   ]
  },
  {
   "cell_type": "code",
   "execution_count": 74,
   "metadata": {},
   "outputs": [
    {
     "data": {
      "text/plain": [
       "array([[15, 17],\n",
       "       [21, 23],\n",
       "       [27, 29]])"
      ]
     },
     "execution_count": 74,
     "metadata": {},
     "output_type": "execute_result"
    }
   ],
   "source": [
    "# We can also add in step to the column to step over \n",
    "practice[2:5, 3::2]"
   ]
  },
  {
   "cell_type": "markdown",
   "metadata": {},
   "source": [
    "## Is It A View \n",
    "When we slice an array a view of the original array is returned.  \n",
    "Look at the examples below to see if the array is the original or just a view of it."
   ]
  },
  {
   "cell_type": "code",
   "execution_count": 75,
   "metadata": {},
   "outputs": [
    {
     "data": {
      "text/plain": [
       "(array([[90210,     1,     2,     3,     4,     5],\n",
       "        [    6,     7,     8,     9,    10,    11],\n",
       "        [   12,    13,    14,    15,    16,    17],\n",
       "        [   18,    19,    20,    21,    22,    23],\n",
       "        [   24,    25,    26,    27,    28,    29],\n",
       "        [   30,    31,    32,    33,    34,    35],\n",
       "        [   36,    37,    38,    39,    40,    41]]),\n",
       " array([[90210,     1,     2,     3,     4,     5],\n",
       "        [    6,     7,     8,     9,    10,    11],\n",
       "        [   12,    13,    14,    15,    16,    17],\n",
       "        [   18,    19,    20,    21,    22,    23],\n",
       "        [   24,    25,    26,    27,    28,    29],\n",
       "        [   30,    31,    32,    33,    34,    35],\n",
       "        [   36,    37,    38,    39,    40,    41]]))"
      ]
     },
     "execution_count": 75,
     "metadata": {},
     "output_type": "execute_result"
    }
   ],
   "source": [
    "# Any slicing of ndarray returns a view and not a copy!\n",
    "not_copied = practice[:]\n",
    "# We add a value to [0,0] and this changes the practice view\n",
    "not_copied[0,0] = 90210\n",
    "practice, not_copied"
   ]
  },
  {
   "cell_type": "markdown",
   "metadata": {},
   "source": [
    "We can see that both of them changed. This is because it is a view and not a copy.  \n",
    "To check to see if we have a view, we can use the <code>ndarray.base</code> property.  \n",
    "Let's see an example:"
   ]
  },
  {
   "cell_type": "code",
   "execution_count": 76,
   "metadata": {},
   "outputs": [
    {
     "data": {
      "text/plain": [
       "True"
      ]
     },
     "execution_count": 76,
     "metadata": {},
     "output_type": "execute_result"
    }
   ],
   "source": [
    "practice.base is None"
   ]
  },
  {
   "cell_type": "code",
   "execution_count": 77,
   "metadata": {},
   "outputs": [
    {
     "data": {
      "text/plain": [
       "False"
      ]
     },
     "execution_count": 77,
     "metadata": {},
     "output_type": "execute_result"
    }
   ],
   "source": [
    "not_copied.base is None"
   ]
  },
  {
   "cell_type": "markdown",
   "metadata": {},
   "source": [
    "We can see that with <code>practice.base is None</code> it returned <code>True</code> while <code>not_copied.base is None</code> returned <code>False</code>.  \n",
    "This is because practice is the oringinal and not a view. While not_copied is just a view."
   ]
  },
  {
   "cell_type": "code",
   "execution_count": 78,
   "metadata": {},
   "outputs": [
    {
     "data": {
      "text/plain": [
       "True"
      ]
     },
     "execution_count": 78,
     "metadata": {},
     "output_type": "execute_result"
    }
   ],
   "source": [
    "not_copied.base is practice"
   ]
  },
  {
   "cell_type": "markdown",
   "metadata": {},
   "source": [
    "This just shows that not_copied is a view of practice"
   ]
  },
  {
   "cell_type": "code",
   "execution_count": 79,
   "metadata": {},
   "outputs": [
    {
     "data": {
      "text/plain": [
       "(True, False)"
      ]
     },
     "execution_count": 79,
     "metadata": {},
     "output_type": "execute_result"
    }
   ],
   "source": [
    "# Another way to check is to use flags\n",
    "# We pass \"OWNDATA\" as the argument\n",
    "practice.flags[\"OWNDATA\"], not_copied.flags['OWNDATA']"
   ]
  },
  {
   "cell_type": "markdown",
   "metadata": {},
   "source": [
    "Again we can see that practice is the original and not just a view."
   ]
  },
  {
   "cell_type": "code",
   "execution_count": 80,
   "metadata": {},
   "outputs": [
    {
     "data": {
      "text/plain": [
       "(array([[90210,     1,     2,     3,     4,     5],\n",
       "        [    6,     7,     8,     9,    10,    11],\n",
       "        [   12,    13,    14,    15,    16,    17],\n",
       "        [   18,    19,    20,    21,    22,    23],\n",
       "        [   24,    25,    26,    27,    28,    29],\n",
       "        [   30,    31,    32,    33,    34,    35],\n",
       "        [   36,    37,    38,    39,    40,    41]]),\n",
       " array([[90210,     1,     2,     3,     4,     5,     6,     7,     8,\n",
       "             9,    10,    11,    12,    13],\n",
       "        [   14,    15,    16,    17,    18,    19,    20,    21,    22,\n",
       "            23,    24,    25,    26,    27],\n",
       "        [   28,    29,    30,    31,    32,    33,    34,    35,    36,\n",
       "            37,    38,    39,    40,    41]]),\n",
       " True)"
      ]
     },
     "execution_count": 80,
     "metadata": {},
     "output_type": "execute_result"
    }
   ],
   "source": [
    "# We create another view from practice and give it a new shape\n",
    "practice_view = practice.reshape(3,14)\n",
    "practice, practice_view, practice_view.base is practice # We call .base to check if practice_view is a copy"
   ]
  },
  {
   "cell_type": "code",
   "execution_count": 81,
   "metadata": {},
   "outputs": [
    {
     "data": {
      "text/plain": [
       "(21, 2)"
      ]
     },
     "execution_count": 81,
     "metadata": {},
     "output_type": "execute_result"
    }
   ],
   "source": [
    "# We can ask NumPy to reshape our rows and columns even if we don't know\n",
    "# how many rows but we do know how many columns we want or vice-versa\n",
    "# by putting in a -1 in the row. (or column)\n",
    "practice.reshape(-1,2).shape"
   ]
  },
  {
   "cell_type": "markdown",
   "metadata": {},
   "source": [
    "Here we see that NumPy figured out that we needed 21 rows to make 2 columns.  We can use the <code>-1</code> in either the <code>(row, column)</code>. Like <code>(-1, 3)</code> to return so many rows that NumPy figures out and 3 columns or <code>(4, -1)</code> that returns 4 rows and however many columns that NumPy figures out.\n",
    "\n",
    "Here is a link to learn more about <a href=\"https://www.numpy.org/devdocs/reference/generated/numpy.reshape.html#numpy.reshape\" target=\"_blank\" title=\"NumPy Reshape\">numpy.reshape</a>"
   ]
  },
  {
   "cell_type": "code",
   "execution_count": 82,
   "metadata": {},
   "outputs": [
    {
     "data": {
      "text/plain": [
       "array([90210,     1,     2,     3,     4,     5,     6,     7,     8,\n",
       "           9,    10,    11,    12,    13,    14,    15,    16,    17,\n",
       "          18,    19,    20,    21,    22,    23,    24,    25,    26,\n",
       "          27,    28,    29,    30,    31,    32,    33,    34,    35,\n",
       "          36,    37,    38,    39,    40,    41])"
      ]
     },
     "execution_count": 82,
     "metadata": {},
     "output_type": "execute_result"
    }
   ],
   "source": [
    "# So, if we want all the elements in a single dimension we can use numpy.ravel()\n",
    "# This will return a view of practice and not a copy\n",
    "practice.ravel()"
   ]
  },
  {
   "cell_type": "markdown",
   "metadata": {},
   "source": [
    "As we can see, it returns a single dimension array.  NumPy calles it a contiguous flattened array."
   ]
  },
  {
   "cell_type": "markdown",
   "metadata": {},
   "source": [
    "This will return a veiw of practice and not a copy.  If you do want a copy you  can use <code>practice.flatten()</code>. The keyword is <code>.flatten()</code>\n",
    "\n",
    "Here is a link to learn more about this <a href=\"https://www.numpy.org/devdocs/reference/generated/numpy.ndarray.flatten.html#numpy.ndarray.flatten\" target=\"_blank\" title=\"NumPy Flatten()\"> NumPy.ndarray.flatten()</a>  \n",
    "Here is a link to learn more about <a href=\"https://www.numpy.org/devdocs/reference/generated/numpy.ravel.html?highlight=numpy%20ravel#numpy.ravel\" target=\"_blank\" title=\"NumPy.ravel()\">numpy.ravel()</a>"
   ]
  },
  {
   "cell_type": "code",
   "execution_count": 83,
   "metadata": {},
   "outputs": [
    {
     "name": "stdout",
     "output_type": "stream",
     "text": [
      "Search results for 'flat'\n",
      "-------------------------\n",
      "numpy.diagflat\n",
      "    Create a two-dimensional array with the flattened input as a diagonal.\n",
      "numpy.flatiter\n",
      "    Flat iterator object to iterate over arrays.\n",
      "numpy.put\n",
      "    Replaces specified elements of an array with given values.\n",
      "numpy.flatnonzero\n",
      "    Return indices that are non-zero in the flattened version of a.\n",
      "numpy.ravel\n",
      "    Return a contiguous flattened array.\n",
      "numpy.ma.diagflat\n",
      "    Create a two-dimensional array with the flattened input as a diagonal.\n",
      "numpy.unravel_index\n",
      "    Converts a flat index or array of flat indices into a tuple\n",
      "numpy.matrix.flatten\n",
      "    Return a flattened copy of the matrix.\n",
      "numpy.ma.flatten_mask\n",
      "    Returns a completely flattened version of the mask, where nested fields\n",
      "numpy.chararray.flatten\n",
      "    Return a copy of the array collapsed into one dimension.\n",
      "numpy.chararray.put\n",
      "    Set ``a.flat[n] = values[n]`` for all `n` in indices.\n",
      "numpy.ravel_multi_index\n",
      "    Converts a tuple of index arrays into an array of flat\n",
      "numpy.matrix.getA1\n",
      "    Return `self` as a flattened `ndarray`.\n",
      "numpy.matrix.ravel\n",
      "    Return a flattened matrix.\n",
      "numpy.chararray.ravel\n",
      "    a.ravel([order])\n",
      "numpy.ma.flatten_structured_array\n",
      "    Flatten a structured array.\n",
      "numpy.ma.MaskedArray.flatten\n",
      "    Return a copy of the array collapsed into one dimension.\n",
      "numpy.ma.MaskedArray._get_flat\n",
      "    Return a flat iterator.\n",
      "numpy.ma.MaskedArray._set_flat\n",
      "    Set a flattened version of self to value.\n",
      "numpy.ma.MaskedArray.put\n",
      "    Set storage-indexed locations to corresponding values.\n",
      "numpy.ma.mrecords.fromarrays\n",
      "    Creates a mrecarray from a (flat) list of masked arrays.\n",
      "numpy.ptp\n",
      "    Range of values (maximum - minimum) along an axis.\n",
      "numpy.std\n",
      "    Compute the standard deviation along the specified axis.\n",
      "numpy.var\n",
      "    Compute the variance along the specified axis.\n",
      "numpy.amax\n",
      "    Return the maximum of an array or maximum along an axis.\n",
      "numpy.amin\n",
      "    Return the minimum of an array or minimum along an axis.\n",
      "numpy.diag\n",
      "    Extract a diagonal or construct a diagonal array.\n",
      "numpy.isin\n",
      "    Calculates `element in test_elements`, broadcasting over `element` only.\n",
      "numpy.mean\n",
      "    Compute the arithmetic mean along the specified axis.\n",
      "numpy.roll\n",
      "    Roll array elements along a given axis.\n",
      "numpy.sort\n",
      "    Return a sorted copy of an array.\n",
      "numpy.take\n",
      "    Take elements from an array along an axis.\n",
      "numpy.vdot\n",
      "    Return the dot product of two vectors.\n",
      "numpy.outer\n",
      "    Compute the outer product of two vectors.\n",
      "numpy.trace\n",
      "    Return the sum along diagonals of the array.\n",
      "numpy.append\n",
      "    Append values to the end of an array.\n",
      "numpy.argmax\n",
      "    Returns the indices of the maximum values along an axis.\n",
      "numpy.argmin\n",
      "    Returns the indices of the minimum values along an axis.\n",
      "numpy.cumsum\n",
      "    Return the cumulative sum of the elements along a given axis.\n",
      "numpy.delete\n",
      "    Return a new array with sub-arrays along an axis deleted. For a one\n",
      "numpy.insert\n",
      "    Insert values along the given axis before the given indices.\n",
      "numpy.median\n",
      "    Compute the median along the specified axis.\n",
      "numpy.nanmax\n",
      "    Return the maximum of an array or maximum along an axis, ignoring any\n",
      "numpy.nanmin\n",
      "    Return minimum of an array or minimum along an axis, ignoring any NaNs.\n",
      "numpy.nanstd\n",
      "    Compute the standard deviation along the specified axis, while\n",
      "numpy.nansum\n",
      "    Return the sum of array elements over a given axis treating Not a\n",
      "numpy.nanvar\n",
      "    Compute the variance along the specified axis, while ignoring NaNs.\n",
      "numpy.nditer\n",
      "    Efficient multi-dimensional iterator object to iterate over arrays.\n",
      "numpy.repeat\n",
      "    Repeat elements of an array.\n",
      "numpy.unique\n",
      "    Find the unique elements of an array.\n",
      "numpy.argsort\n",
      "    Returns the indices that would sort an array.\n",
      "numpy.cumprod\n",
      "    Return the cumulative product of elements along a given axis.\n",
      "numpy.ediff1d\n",
      "    The differences between consecutive elements of an array.\n",
      "numpy.nanmean\n",
      "    Compute the arithmetic mean along the specified axis, ignoring NaNs.\n",
      "numpy.nanprod\n",
      "    Return the product of array elements over a given axis treating Not a\n",
      "numpy.ndarray\n",
      "    ndarray(shape, dtype=float, buffer=None, offset=0,\n",
      "numpy.ndindex\n",
      "    An N-dimensional iterator object to index arrays.\n",
      "numpy.nonzero\n",
      "    Return the indices of the elements that are non-zero.\n",
      "numpy.putmask\n",
      "    Changes elements of an array based on conditional and input values.\n",
      "numpy.union1d\n",
      "    Find the union of two arrays.\n",
      "numpy.compress\n",
      "    Return selected slices of an array along given axis.\n",
      "numpy.diagonal\n",
      "    Return specified diagonals.\n",
      "numpy.packbits\n",
      "    Packs the elements of a binary-valued array into bits in a uint8 array.\n",
      "numpy.broadcast\n",
      "    Produce an object that mimics broadcasting.\n",
      "numpy.chararray\n",
      "    chararray(shape, itemsize=1, unicode=False, buffer=None, offset=0,\n",
      "numpy.histogram\n",
      "    Compute the histogram of a set of data.\n",
      "numpy.nanargmax\n",
      "    Return the indices of the maximum values in the specified axis ignoring\n",
      "numpy.nanargmin\n",
      "    Return the indices of the minimum values in the specified axis ignoring\n",
      "numpy.nancumsum\n",
      "    Return the cumulative sum of array elements over a given axis treating Not a\n",
      "numpy.nanmedian\n",
      "    Compute the median along the specified axis, while ignoring NaNs.\n",
      "numpy.partition\n",
      "    Return a partitioned copy of an array.\n",
      "numpy.nancumprod\n",
      "    Return the cumulative product of array elements over a given axis treating Not a\n",
      "numpy.percentile\n",
      "    Compute the qth percentile of the data along the specified axis.\n",
      "numpy.unpackbits\n",
      "    Unpacks elements of a uint8 array into a binary-valued output array.\n",
      "numpy.ndenumerate\n",
      "    Multidimensional index iterator.\n",
      "numpy.flatiter.copy\n",
      "    copy()\n",
      "numpy.argpartition\n",
      "    Perform an indirect partition along the given axis using the\n",
      "numpy.ma.max\n",
      "    Return the maximum along a given axis.\n",
      "numpy.ma.min\n",
      "    Return the minimum along a given axis.\n",
      "numpy.ma.ptp\n",
      "    Return (maximum - minimum) along the given dimension\n",
      "numpy.ma.var\n",
      "    Compute the variance along the specified axis.\n",
      "numpy.ma.anom\n",
      "    Compute the anomalies (deviations from the arithmetic mean)\n",
      "numpy.ma.isin\n",
      "    Calculates `element in test_elements`, broadcasting over\n",
      "numpy.ma.sort\n",
      "    Sort the array, in-place\n",
      "numpy.count_nonzero\n",
      "    Counts the number of non-zero values in the array ``a``.\n",
      "numpy.nanpercentile\n",
      "    Compute the qth percentile of the data along the specified axis,\n",
      "numpy.ma.outer\n",
      "    Compute the outer product of two vectors.\n",
      "numpy.ma.append\n",
      "    Append values to the end of an array.\n",
      "numpy.ma.argmax\n",
      "    Returns array of indices of the maximum values along the given axis.\n",
      "numpy.ma.argmin\n",
      "    Return array of indices to the minimum values along the given axis.\n",
      "numpy.ma.median\n",
      "    Compute the median along the specified axis.\n",
      "numpy.ma.argsort\n",
      "    Return an ndarray of indices that sort the array along the\n",
      "numpy.ma.average\n",
      "    Return the weighted average of array over the given axis.\n",
      "numpy.ma.nonzero\n",
      "    nonzero(self)\n",
      "numpy.ma.tests.test_subclassing.CSAIterator\n",
      "    Flat iterator object that uses its own setter/getter\n",
      "numpy.savez_compressed\n",
      "    Save several arrays into a single file in compressed ``.npz`` format.\n",
      "numpy.chararray.item\n",
      "    a.item(*args)\n",
      "numpy.matrix.argmax\n",
      "    Indexes of the maximum values along an axis.\n",
      "numpy.matrix.argmin\n",
      "    Indexes of the minimum values along an axis.\n",
      "numpy.chararray.resize\n",
      "    Change shape and size of array in-place.\n",
      "numpy.ma.clump_masked\n",
      "    Returns a list of slices corresponding to the masked clumps of a 1-D array.\n",
      "numpy.ma.count_masked\n",
      "    Count the number of masked elements along the given axis.\n",
      "numpy.ma.mask_rowcols\n",
      "    Mask rows and/or columns of a 2D array that contain masked values.\n",
      "numpy.ma.flatnotmasked_edges\n",
      "    Find the indices of the first and last unmasked values.\n",
      "numpy.ma.clump_unmasked\n",
      "    Return list of slices corresponding to the unmasked clumps of a 1-D array.\n",
      "numpy.ma.notmasked_edges\n",
      "    Find the indices of the first and last unmasked values along an axis.\n",
      "numpy.ma.flatnotmasked_contiguous\n",
      "    Find contiguous unmasked data in a masked array along the given axis.\n",
      "numpy.ma.notmasked_contiguous\n",
      "    Find contiguous unmasked data in a masked array along the given axis.\n",
      "numpy.ma.MaskedArray.max\n",
      "    Return the maximum along a given axis.\n",
      "numpy.ma.MaskedArray.min\n",
      "    Return the minimum along a given axis.\n",
      "numpy.ma.MaskedArray.ptp\n",
      "    Return (maximum - minimum) along the given dimension\n",
      "numpy.ma.MaskedArray.var\n",
      "    Compute the variance along the specified axis.\n",
      "numpy.ma.MaskedArray.anom\n",
      "    Compute the anomalies (deviations from the arithmetic mean)\n",
      "numpy.ma.MaskedArray.sort\n",
      "    Sort the array, in-place\n",
      "numpy.lib._iotools.flatten_dtype\n",
      "    Unpack a structured data-type by collapsing nested fields and/or fields\n",
      "numpy.ma.MaskedArray.argmax\n",
      "    Returns array of indices of the maximum values along the given axis.\n",
      "numpy.ma.MaskedArray.argmin\n",
      "    Return array of indices to the minimum values along the given axis.\n",
      "numpy.ma.MaskedArray.argsort\n",
      "    Return an ndarray of indices that sort the array along the\n",
      "numpy.ma.MaskedArray.nonzero\n",
      "    Return the indices of unmasked elements that are not zero.\n",
      "numpy.lib.tests.test__iotools.TestMiscFunctions.test_flatten_dtype\n",
      "    Testing flatten_dtype\n",
      "numpy.lib.arrayterator.Arrayterator\n",
      "    Buffered iterator for big arrays.\n",
      "numpy.lib.recfunctions.merge_arrays\n",
      "    Merge arrays field by field.\n",
      "numpy.polynomial.hermite.hermvander2d\n",
      "    Pseudo-Vandermonde matrix of given degrees.\n",
      "numpy.polynomial.hermite.hermvander3d\n",
      "    Pseudo-Vandermonde matrix of given degrees.\n",
      "numpy.polynomial.laguerre.lagvander2d\n",
      "    Pseudo-Vandermonde matrix of given degrees.\n",
      "numpy.polynomial.laguerre.lagvander3d\n",
      "    Pseudo-Vandermonde matrix of given degrees.\n",
      "numpy.polynomial.legendre.legvander2d\n",
      "    Pseudo-Vandermonde matrix of given degrees.\n",
      "numpy.polynomial.legendre.legvander3d\n",
      "    Pseudo-Vandermonde matrix of given degrees.\n",
      "numpy.polynomial.chebyshev.chebvander2d\n",
      "    Pseudo-Vandermonde matrix of given degrees.\n",
      "numpy.polynomial.chebyshev.chebvander3d\n",
      "    Pseudo-Vandermonde matrix of given degrees.\n",
      "numpy.polynomial.hermite_e.hermevander2d\n",
      "    Pseudo-Vandermonde matrix of given degrees.\n",
      "numpy.polynomial.hermite_e.hermevander3d\n",
      "    Pseudo-Vandermonde matrix of given degrees.\n",
      "numpy.polynomial.polynomial.polyvander2d\n",
      "    Pseudo-Vandermonde matrix of given degrees.\n",
      "numpy.polynomial.polynomial.polyvander3d\n",
      "    Pseudo-Vandermonde matrix of given degrees.\n",
      "numpy.ma.tests.test_subclassing.SubArray\n",
      "    ndarray(shape, dtype=float, buffer=None, offset=0,\n",
      "numpy.lib.tests.test_stride_tricks.SimpleSubClass\n",
      "    ndarray(shape, dtype=float, buffer=None, offset=0,\n",
      "numpy.core.tests.test_function_base.PhysicalQuantity2\n",
      "    ndarray(shape, dtype=float, buffer=None, offset=0,\n",
      "numpy.ma.tests.test_subclassing.ComplicatedSubArray\n",
      "    ndarray(shape, dtype=float, buffer=None, offset=0,\n",
      "numpy.lib.tests.test_stride_tricks.VerySimpleSubClass\n",
      "    ndarray(shape, dtype=float, buffer=None, offset=0,"
     ]
    }
   ],
   "source": [
    "# Let us say you have a idea of what you are wanting to look up but can't\n",
    "# remember the actual method name. Jupyter Notebook lets you do this using the keyword .lookfor().\n",
    "np.lookfor(\"flat\")"
   ]
  },
  {
   "cell_type": "code",
   "execution_count": 84,
   "metadata": {},
   "outputs": [],
   "source": [
    "# Now that we think we got what we wanted. We can check to see the Documention of\n",
    "# it by using this: a ? at the end of what we want to get the documention on.\n",
    "np.ravel?"
   ]
  },
  {
   "cell_type": "markdown",
   "metadata": {},
   "source": [
    "When we do this. It opens a window that gives us the documention copy from NumPy Documention website.  Now how cool is that. Wow. Don't you just love Jupyter Notebook?"
   ]
  },
  {
   "cell_type": "markdown",
   "metadata": {},
   "source": [
    "# Array Programming\n",
    "Now let us take everything we have learned about so far and start doing some programming with it. What we are going to do is perform a program on the array values all at once instead of a little at a time.\n",
    "\n",
    "We have talked about how an array is a vector and a 2D array as a matrix, the reason is that we use these arrays as their mathematical equivalent.\n",
    "\n",
    "Let's look at some linear algebra examples. What? You say you can't remember how to do that? Don't worry. NumPy has got you covered. All we have to do is set up the equation and NumPy will do the rest. I will show you the equations and you will have them here as reference notes to look back on."
   ]
  },
  {
   "cell_type": "markdown",
   "metadata": {},
   "source": [
    "## Linear Algebra\n",
    "* NumPy has a module for linear algebra called <a href=\"https://www.numpy.org/devdocs/reference/routines.linalg.html?highlight=linalg\" target=\"_blank\" title=\"NumPy.linalg()\">numpy.linalg()</a>  \n",
    "* We can also have NumPy solve the equations with the uses of <a href=\"https://www.numpy.org/devdocs/reference/generated/numpy.linalg.solve.html#numpy.linalg.solve\" target=\"_blank\" title=\"NumPy.linalg.solve()\">NumPy.linalg.solve()</a>  \n",
    "    * It takes a 2-dimensional matrix and a constant row vector and solves for each variable column\n",
    "    * You can double check the answer using <code>numpy.dot()</code>\n",
    "* As a shortcut, you can use the <code>@</code> to produce the dot product of two arrays.\n",
    "\n",
    "You can see the examples below to see it in action"
   ]
  },
  {
   "cell_type": "code",
   "execution_count": 85,
   "metadata": {},
   "outputs": [
    {
     "data": {
      "text/plain": [
       "array([1.5 , 8.  , 1.25, 2.  ])"
      ]
     },
     "execution_count": 85,
     "metadata": {},
     "output_type": "execute_result"
    }
   ],
   "source": [
    "# Here we make up a matrices\n",
    "orders = np.array([\n",
    "    [2, 0, 0, 0],\n",
    "    [4, 1, 2, 2],\n",
    "    [0, 1, 0, 1],\n",
    "    [6, 0, 1, 2]\n",
    "])\n",
    "# Each column is the total array is the total for each row in the order array matrices\n",
    "totals = np.array([3, 20.50, 10, 14.25])\n",
    "# We are going to use this to solve for the prices of the values in orders.\n",
    "prices = np.linalg.solve(orders,totals)\n",
    "# Each column in prices is the value of each element in each row in order matrices\n",
    "prices"
   ]
  },
  {
   "cell_type": "markdown",
   "metadata": {},
   "source": [
    "Here we used the method called <code>np.linalg.solve</code> This method did all the math for us.  Don't you just love NumPy now?!  \n",
    "\n",
    "Here is a link if you want to learn more about <a href=\"https://www.numpy.org/devdocs/reference/generated/numpy.linalg.solve.html?highlight=numpy%20linalg%20solve#numpy.linalg.solve\" target=\"_blank\" title=\"NumPy.linalg.solve()\">numpy.linalg.solve</a>"
   ]
  },
  {
   "cell_type": "code",
   "execution_count": 86,
   "metadata": {},
   "outputs": [
    {
     "data": {
      "text/plain": [
       "array([ 3.  , 20.5 , 10.  , 14.25])"
      ]
     },
     "execution_count": 86,
     "metadata": {},
     "output_type": "execute_result"
    }
   ],
   "source": [
    "# Ok, now we want to cross check to see if the numbers are right.\n",
    "# (My good old high school math teacher would be so prode of me)\n",
    "# We can do this also with a NumPy function. That function is @\n",
    "orders @ prices\n",
    "# This returns the values in each column that is in totals array\n",
    "# So, we see that our cross check is correct."
   ]
  },
  {
   "cell_type": "markdown",
   "metadata": {},
   "source": [
    "We had NumPy loop through our orders array with the prices array.  The use of @ is the same as saying <code>orders.dot(prices)</code>  It is used to multiply and then sum the values of two matrices.\n",
    "\n",
    "Here is a link to <a href=\"https://www.numpy.org/devdocs/reference/generated/numpy.dot.html?highlight=dot#numpy.dot\" target=\"_blank\" title=\"NumPy.dot()\">numpy.dot()</a>  \n",
    "And here is a link to <a href=\"https://www.numpy.org/devdocs/user/numpy-for-matlab-users.html#array-or-matrix-which-should-i-use\" target=\"_blank\" title=\"Matrix Multiplication\"> NumPy @</a>"
   ]
  },
  {
   "cell_type": "code",
   "execution_count": 87,
   "metadata": {},
   "outputs": [
    {
     "data": {
      "text/plain": [
       "(array([1, 2, 3, 4, 5]), array([ 6,  7,  8,  9, 10]))"
      ]
     },
     "execution_count": 87,
     "metadata": {},
     "output_type": "execute_result"
    }
   ],
   "source": [
    "# We are going to make two arrays\n",
    "a, b = np.split(np.arange(1,11),2) \n",
    "a,b"
   ]
  },
  {
   "cell_type": "markdown",
   "metadata": {},
   "source": [
    "As you can see, we had NumPy make two arrays. By calling <code>np.split()</code> we were telling NumPy that we want to split we put in the (). Here we put in <code>np.arange(1,11)</code>, which will return an array of 1 - 10. But since we put that into <code>np.split(np.arange(1,11),2)</code> Yep, you guessed it. It returns two arrays with the length of 1 - 10."
   ]
  },
  {
   "cell_type": "code",
   "execution_count": 88,
   "metadata": {},
   "outputs": [
    {
     "data": {
      "text/plain": [
       "array([ 7,  9, 11, 13, 15])"
      ]
     },
     "execution_count": 88,
     "metadata": {},
     "output_type": "execute_result"
    }
   ],
   "source": [
    "# Let us see what it will do if we add these two together. I know in Python\n",
    "# it would just combined the two (concatenate) them. But NumPy will add them.\n",
    "a + b"
   ]
  },
  {
   "cell_type": "markdown",
   "metadata": {},
   "source": [
    "But we see that NumPy will add the two and return an array of the sum."
   ]
  },
  {
   "cell_type": "code",
   "execution_count": 89,
   "metadata": {},
   "outputs": [
    {
     "name": "stdout",
     "output_type": "stream",
     "text": [
      "[-5 -5 -5 -5 -5]\n",
      "[5 5 5 5 5]\n"
     ]
    }
   ],
   "source": [
    "# So, if we subtract them, it would also subtract columns and return the sum\n",
    "\n",
    "print(a - b)\n",
    "\n",
    "print(b - a)"
   ]
  },
  {
   "cell_type": "code",
   "execution_count": 90,
   "metadata": {},
   "outputs": [
    {
     "name": "stdout",
     "output_type": "stream",
     "text": [
      "[ 6 14 24 36 50]\n",
      "[6.         3.5        2.66666667 2.25       2.        ]\n"
     ]
    }
   ],
   "source": [
    "# We can also do (*) or (/)\n",
    "\n",
    "print(a*b)\n",
    "\n",
    "print(b/a)"
   ]
  },
  {
   "cell_type": "markdown",
   "metadata": {},
   "source": [
    "## Ufunc\n",
    "What?? You think I stink?  No, No, we are talking about NumPy <a href=\"https://www.numpy.org/devdocs/reference/ufuncs.html#available-ufuncs\" target=\"_blank\" title=\"NumPy (ufunc)\">Universal Functions ufunc</a>  \n",
    "* ufuncs (Universal Functions) are vectorized functions that allow you to operate element by element without using a loop.  \n",
    "* Math and comparison operations make use of vectorization.  \n",
    "\n",
    "## Broadcasting\n",
    "NumPy uses this very handy concept called <a href=\"https://www.numpy.org/devdocs/user/theory.broadcasting.html#array-broadcasting-in-numpy\" target=\"_blank\" title=\"NumPy Broadcasting\">Broadcasting</a> that can stretch to be applied to the ufuncs."
   ]
  },
  {
   "cell_type": "code",
   "execution_count": 91,
   "metadata": {},
   "outputs": [
    {
     "data": {
      "text/plain": [
       "array([3, 4, 5, 6, 7])"
      ]
     },
     "execution_count": 91,
     "metadata": {},
     "output_type": "execute_result"
    }
   ],
   "source": [
    "# Here we are using np.repeat(2, 5) to make an array of 2's. A total of 5 \n",
    "# two's [2, 2, 2, 2, 2]. Then we are going to add the array of a to this\n",
    "# new array made from np.repeat(2, 5)\n",
    "a + np.repeat(2, 5)"
   ]
  },
  {
   "cell_type": "code",
   "execution_count": 92,
   "metadata": {},
   "outputs": [
    {
     "data": {
      "text/plain": [
       "(array([[0., 1., 2.],\n",
       "        [3., 4., 5.],\n",
       "        [6., 7., 8.]]), array([0., 1., 2.]))"
      ]
     },
     "execution_count": 92,
     "metadata": {},
     "output_type": "execute_result"
    }
   ],
   "source": [
    "# We are going to create two new arrays\n",
    "x1 = np.arange(9.0).reshape((3, 3))\n",
    "x2 = np.arange(3.0)\n",
    "x1, x2"
   ]
  },
  {
   "cell_type": "code",
   "execution_count": 93,
   "metadata": {},
   "outputs": [
    {
     "data": {
      "text/plain": [
       "array([[ 0.,  2.,  4.],\n",
       "       [ 3.,  5.,  7.],\n",
       "       [ 6.,  8., 10.]])"
      ]
     },
     "execution_count": 93,
     "metadata": {},
     "output_type": "execute_result"
    }
   ],
   "source": [
    "# Here we add them together\n",
    "np.add(x1, x2)"
   ]
  },
  {
   "cell_type": "code",
   "execution_count": 94,
   "metadata": {},
   "outputs": [
    {
     "data": {
      "text/plain": [
       "array([[ 2.,  3.,  4.],\n",
       "       [ 5.,  6.,  7.],\n",
       "       [ 8.,  9., 10.]])"
      ]
     },
     "execution_count": 94,
     "metadata": {},
     "output_type": "execute_result"
    }
   ],
   "source": [
    "# Here we see another example of numpy.add()\n",
    "np.add(x1, 2)"
   ]
  },
  {
   "cell_type": "markdown",
   "metadata": {},
   "source": [
    "We can see that the 2 was added to every value in the numpy array x1"
   ]
  },
  {
   "cell_type": "markdown",
   "metadata": {},
   "source": [
    "## Common Routines\n",
    "Here are some common <a href=\"https://www.numpy.org/devdocs/reference/routines.math.html\" target=\"_blank\" title=\"NumPy Mathematical Functions\">mathematical functions</a> that will help you use NumPy.  We can not forget about <a href=\"https://www.numpy.org/devdocs/reference/routines.html\" target=\"_blank\" title=\"NumPy Reutines\">routines</a> to show us all the different types of functions we can use to help with so many different types of formulas."
   ]
  },
  {
   "cell_type": "markdown",
   "metadata": {},
   "source": [
    "## Links For More Information\n",
    "Here is a list of the different Methods, Attributes, and Functions we used:\n",
    "<ul>  \n",
    "    <li><a href=\"https://www.numpy.org/devdocs/reference/generated/numpy.add.html#numpy.add\" target=\"_blank\" title=\"NumPy.add() Documentation\">NumPy.add() </a></li>\n",
    "    <li><a href=\"https://docs.python.org/3/tutorial/datastructures.html#more-on-lists\" target=\"_blank\" title=\"Python List Documentation\">List.append()</a></li>\n",
    "    <li><a href=\"https://www.numpy.org/devdocs/reference/generated/numpy.append.html#numpy.append\" target=\"_blank\" title=\"NumPy.append() Documentation\">NumPy.append()</a></li>\n",
    "    <li><a href=\"https://www.numpy.org/devdocs/reference/generated/numpy.array.html#numpy.array\" target=\"_blank\" title=\"NumPy.array() Documentation\">NumPy.array()</a></li>\n",
    "    <li><a href=\"https://www.numpy.org/devdocs/reference/generated/numpy.arange.html#numpy.arange\" target=\"_blank\" title=\"NumPy.arange() Documentation\">NumPy.arange()</a></li>\n",
    "    <li><a href=\"https://www.numpy.org/devdocs/glossary.html#glossary\" target=\"_blank\" title=\"NumPy axes Documentation\">Axes</a></li>\n",
    "    <li><a href=\"https://www.numpy.org/devdocs/glossary.html#glossary\" target=\"_blank\" title=\"NumPy axis Documentation\">Axis</a></li>\n",
    "    <li><a href=\"https://www.numpy.org/devdocs/reference/generated/numpy.ndarray.base.html?highlight=base#numpy.ndarray.base\" target=\"_blank\" title=\"NumPy.ndarray.base Documentation\">ndarray.base</a></li>\n",
    "    <li><a href=\"https://matplotlib.org/api/_as_gen/matplotlib.pyplot.boxplot.html\" target=\"_blank\" title=\"Matplotlib.pyplot.boxplot() Documentation\">Matplotlib.pyplot.boxplot()</a></li>\n",
    "    <li><a href=\"https://www.numpy.org/devdocs/user/basics.types.html?highlight=data%20type\" target=\"_blank\" title=\"Data Type NumPy Documentation\">Data Type</a></li>\n",
    "    <li><a href=\"https://www.numpy.org/devdocs/reference/generated/numpy.dot.html?highlight=dot#numpy.dot\" target=\"_blank\" title=\"NumPy.dot() Documentation\">NumPy.dot() or @ </a></li>\n",
    "    <li><a href=\"https://www.numpy.org/devdocs/reference/generated/numpy.dtype.html?highlight=dtype#numpy.dtype\" target=\"_blank\" title=\"NumPy.dtype() Documentation\">NumPy.dtype()</a></li>\n",
    "    <li><a href=\"https://www.numpy.org/devdocs/reference/generated/numpy.ndarray.flags.html?highlight=flags#numpy.ndarray.flags\" target=\"_blank\" title=\"NumPy.ndarray.flags[] Documentation\">NumPy.ndarrary.flags[]</a></li>\n",
    "    <li><a href=\"https://matplotlib.org/api/_as_gen/matplotlib.pyplot.hist.html\" target=\"_blank\" title=\"Matplotlib.pyplot.hist() Documentation\">Matplotlib.pyplot.hist()</a></li>\n",
    "    <li><a href=\"https://docs.python.org/3/glossary.html?highlight=import#term-importing\" target=\"_blank\" title=\"Python import Documentation\">Import</a></li>\n",
    "    <li><a href=\"https://www.numpy.org/devdocs/reference/generated/numpy.info.html?highlight=info#numpy.info\" target=\"_blank\" title=\"NumPy.info() Documentation\">NumPy.infor()</a></li>\n",
    "    <li><a href=\"https://docs.python.org/3/tutorial/datastructures.html?highlight=list%20insert#more-on-lists\" target=\"_blank\" title=\"Python List.insert() Documentation\">List.insert()</a></li>\n",
    "    <li><a href=\"https://www.numpy.org/devdocs/reference/generated/numpy.ndarray.itemsize.html?highlight=itemsize#numpy.ndarray.itemsize\" target=\"_blank\" title=\"NumPy.ndarray.itemsize\">NumPy.ndarray.itemsize</a></li>\n",
    "    <li><a href=\"https://docs.python.org/3/library/functions.html?highlight=len#len\" target=\"_blank\" title=\"Python Len() Documentation\">Python len()</a></li>\n",
    "    <li><a href=\"https://docs.python.org/3/library/functions.html?highlight=len#len\" target=\"_blank\" title=\" NumPy.linalg.solve() Documentation\">NumPy.linalg.solve()</a></li>\n",
    "    <li><a href=\"https://www.numpy.org/devdocs/reference/generated/numpy.lookfor.html?highlight=lookfor#numpy.lookfor\" target=\"_blank\" title=\"NumPy.lookfor() Documentation\">NumPy.lookfor()</a></li>\n",
    "    <li><a href=\"https://matplotlib.org/api/_as_gen/matplotlib.pyplot.html\" target=\"_blank\" title=\"Matplotlib Documentation\">Matplotlib</a></li>\n",
    "    <li><a href=\"https://www.numpy.org/devdocs/reference/generated/numpy.lookfor.html?highlight=lookfor#numpy.lookfor\" target=\"_blank\" title=\"NumPy.mean() Documentation\">NumPy.mean()</a></li>\n",
    "    <li><a href=\"https://www.numpy.org/devdocs/reference/generated/numpy.ndarray.nbytes.html?highlight=nbytes#numpy.ndarray.nbytes\" target=\"_blank\" title=\"NumPy.ndarray.nbytes Documentation\">NumPy.ndarray.nbytes</a></li>\n",
    "    <li><a href=\"https://www.numpy.org/devdocs/reference/generated/numpy.ndarray.html?highlight=ndarray#numpy.ndarray\" target=\"_blank\" title=\"NumPy.ndarray() Documentation\">NumPy.ndarray()</a></li>\n",
    "    <li><a href=\"https://www.numpy.org/devdocs/reference/generated/numpy.ndarray.ndim.html?highlight=ndim#numpy.ndarray.ndim\" target=\"_blank\" title=\"NumPy.ndarray.ndim Documentation\">NumPy.ndarray.ndim</a></li>\n",
    "    <li><a href=\"https://www.numpy.org/devdocs/user/whatisnumpy.html\" target=\"_blank\" title=\"NumPy Documentation\">NumPy</a></li>\n",
    "    <li><a href=\"https://matplotlib.org/api/_as_gen/matplotlib.pyplot.plot.html#matplotlib.pyplot.plot\" target=\"_blank\" title=\"Matplotlib.pyplot.plot() Documentation\">Matplotlib.plot()</a></li>\n",
    "    <li><a href=\"https://docs.python.org/3/tutorial/datastructures.html?highlight=list%20pop#more-on-lists\" target=\"_blank\" title=\"Python list.pop() Documentation\">Python list.pop()</a></li>\n",
    "    <li><a href=\"https://www.numpy.org/devdocs/reference/generated/numpy.random.rand.html?highlight=rand#numpy.random.rand\" target=\"_blank\" title=\"NumPy.random.rand() Documentation\">NumPy.random.rand()</a></li>\n",
    "    <li><a href=\"https://www.numpy.org/devdocs/reference/generated/numpy.random.randint.html?highlight=randint#numpy.random.randint\" target=\"_blank\" title=\"NumPy.random.randint() Documentation\">NumPy.random.randint()</a></li>\n",
    "    <li><a href=\"https://www.numpy.org/devdocs/reference/generated/numpy.random.random.html?highlight=random#numpy.random.random\" target=\"_blank\" title=\"NumPy.random.random() Documentation\">NumPy.random.random()</a></li>\n",
    "    <li><a href=\"https://www.numpy.org/devdocs/reference/generated/numpy.random.RandomState.html?highlight=randomstate\" target=\"_blank\" title=\"NumPy.random.RandomState Documentation\">NumPy.random.RandomState</a></li>\n",
    "    <li><a href=\"https://www.numpy.org/devdocs/reference/generated/numpy.linalg.matrix_rank.html?highlight=rank#numpy.linalg.matrix_rank\" target=\"_blank\" title=\"NumPy.linalg.matrix_rank() Documentation\">NumPy.linalg.matrix_rank</a></li>\n",
    "    <li><a href=\"https://www.numpy.org/devdocs/reference/generated/numpy.ravel.html?highlight=ravel#numpy.ravel\" target=\"_blank\" title=\"NumPy.ravel() Documentation\">NumPy.ravel()</a></li>\n",
    "    <li><a href=\"https://www.numpy.org/devdocs/reference/generated/numpy.ufunc.reduce.html?highlight=reduce#numpy.ufunc.reduce\" target=\"_blank\" title=\"NumPy.ufunc.reduce() Documentaion\">NumPy.ufunc.reduce()</a></li>\n",
    "    <li><a href=\"https://www.numpy.org/devdocs/reference/generated/numpy.repeat.html?highlight=repeat#numpy.repeat\" target=\"_blank\" title=\"NumPy.repeat() Documentation\">NumPy.repeat()</a></li>\n",
    "    <li><a href=\"https://www.numpy.org/devdocs/reference/generated/numpy.reshape.html?highlight=reshape#numpy.reshape\" target=\"_blank\" title=\"NumPy.reshape() Documentation\">NumPy.reshape()</a></li>\n",
    "    <li><a href=\"https://www.numpy.org/devdocs/reference/arrays.scalars.html?highlight=array%20scalar\" target=\"_blank\" title=\"NumPy Scalars Documentation\">NumPy Scalars</a></li>\n",
    "    <li><a href=\"https://www.numpy.org/devdocs/reference/generated/numpy.ndarray.shape.html?highlight=shape#numpy.ndarray.shape\" target=\"_blank\" title=\"NumPy.ndarray.shape() Documentation\">NumPy.ndarray.shape()</a></li>\n",
    "    <li><a href=\"https://www.numpy.org/devdocs/reference/generated/numpy.ndarray.size.html?highlight=size#numpy.ndarray.size\" target=\"_blank\" title=\"NumPy.ndarray.size() Documentation\">NumPy.ndarray.size()</a></li>\n",
    "    <li><a href=\"https://www.numpy.org/devdocs/reference/generated/numpy.split.html?highlight=split#numpy.split\" target=\"_blank\" title=\"NumPy.split() Documentation\">NumPy.split()</a></li>\n",
    "    <li><a href=\"https://www.numpy.org/devdocs/reference/generated/numpy.sum.html?highlight=sum#numpy.sum\" target=\"_blank\" title=\"NumPy.sum() Documentation\">NumPy.sum()</a></li>\n",
    "    <li><a href=\"https://www.numpy.org/devdocs/reference/generated/numpy.dtype.type.html#numpy.dtype.type\" target=\"_blank\" title=\"NumPy.dtype.type Documentation\">NumPy.dtype.type</a></li>\n",
    "    <li><a href=\"https://www.numpy.org/devdocs/reference/ufuncs.html\" target=\"_blank\" title=\"NumPy Universal Functions Documentation\">NumPy ufunc</a></li>\n",
    "    <li><a href=\"https://www.numpy.org/devdocs/reference/generated/numpy.zeros.html?highlight=zero\" target=\"_blank\" title=\"NumPy.zero() Documentation\">NumPy.zero()</a></li>\n",
    "</ul>"
   ]
  }
 ],
 "metadata": {
  "kernelspec": {
   "display_name": "Python 3",
   "language": "python",
   "name": "python3"
  },
  "language_info": {
   "codemirror_mode": {
    "name": "ipython",
    "version": 3
   },
   "file_extension": ".py",
   "mimetype": "text/x-python",
   "name": "python",
   "nbconvert_exporter": "python",
   "pygments_lexer": "ipython3",
   "version": "3.6.4"
  }
 },
 "nbformat": 4,
 "nbformat_minor": 2
}
